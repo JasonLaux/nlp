{
 "cells": [
  {
   "cell_type": "markdown",
   "metadata": {},
   "source": [
    "# Assignment 1: Preprocessing and Text Classification"
   ]
  },
  {
   "cell_type": "markdown",
   "metadata": {},
   "source": [
    "Student Name: Jiexin Liu\n",
    "\n",
    "Student ID: 1044804"
   ]
  },
  {
   "cell_type": "markdown",
   "metadata": {},
   "source": [
    "# General Info\n",
    "\n",
    "<b>Due date</b>: Sunday, 28 March 2021 5pm\n",
    "\n",
    "<b>Submission method</b>: Canvas submission\n",
    "\n",
    "<b>Submission materials</b>: completed copy of this iPython notebook\n",
    "\n",
    "<b>Late submissions</b>: -10% per day (both week and weekend days counted)\n",
    "\n",
    "<b>Marks</b>: 9% of mark for class (with 8% on correctness + 1% on quality and efficiency of your code)\n",
    "\n",
    "<b>Materials</b>: See [Using Jupyter Notebook and Python page](https://canvas.lms.unimelb.edu.au/courses/121115/pages/using-jupyter-notebook-and-python?module_item_id=2681264) on Canvas (under Modules>Resources) for information on the basic setup required for this class, including an iPython notebook viewer and the python packages NLTK, Numpy, Scipy, Matplotlib, Scikit-Learn, and Gensim. We recommend installing all the data for NLTK, since you will need various parts of it to complete this assignment. You can also use any Python built-in packages, but do not use any other 3rd party packages (the packages listed above are all fine to use); if your iPython notebook doesn't run on the marker's machine, you will lose marks. <b> You should use Python 3</b>.  \n",
    "\n",
    "To familiarize yourself with NLTK, here is a free online book:  Steven Bird, Ewan Klein, and Edward Loper (2009). <a href=http://nltk.org/book>Natural Language Processing with Python</a>. O'Reilly Media Inc. You may also consult the <a href=https://www.nltk.org/api/nltk.html>NLTK API</a>.\n",
    "\n",
    "<b>Evaluation</b>: Your iPython notebook should run end-to-end without any errors in a reasonable amount of time, and you must follow all instructions provided below, including specific implementation requirements and instructions for what needs to be printed (please avoid printing output we don't ask for). You should edit the sections below where requested, but leave the rest of the code as is. You should leave the output from running your code in the iPython notebook you submit, to assist with marking. The amount each question is worth is explicitly given. \n",
    "\n",
    "You will be marked not only on the correctness of your methods, but also the quality and efficency of your code: in particular, you should be careful to use Python built-in functions and operators when appropriate and pick descriptive variable names that adhere to <a href=\"https://www.python.org/dev/peps/pep-0008/\">Python style requirements</a>. If you think it might be unclear what you are doing, you should comment your code to help the marker make sense of it.\n",
    "\n",
    "<b>Updates</b>: Any major changes to the assignment will be announced via Canvas. Minor changes and clarifications will be announced on the discussion board; we recommend you check it regularly.\n",
    "\n",
    "<b>Academic misconduct</b>: For most people, collaboration will form a natural part of the undertaking of this homework, and we encourge you to discuss it in general terms with other students. However, this ultimately is still an individual task, and so reuse of code or other instances of clear influence will be considered cheating. We will be checking submissions for originality and will invoke the University’s <a href=\"http://academichonesty.unimelb.edu.au/policy.html\">Academic Misconduct policy</a> where inappropriate levels of collusion or plagiarism are deemed to have taken place."
   ]
  },
  {
   "cell_type": "markdown",
   "metadata": {},
   "source": [
    "# Overview\n",
    "\n",
    "In this homework, you'll be working with a collection tweets. The task is to predict the geolocation (country) where the tweet comes from. This homework involves writing code to preprocess data and perform text classification."
   ]
  },
  {
   "cell_type": "markdown",
   "metadata": {},
   "source": [
    "# Preprocessing (4 marks)"
   ]
  },
  {
   "cell_type": "markdown",
   "metadata": {},
   "source": [
    "**Instructions**: Download the data (as1-data.json) from Canvas and put it in the same directory as this iPython notebook. Run the code below to load the json data. This produces two objects, `x` and `y`, which contains a list of  tweets and corresponding country labels (it uses the standard [2 letter country code](https://www.iban.com/country-codes)) respectively. **No implementation is needed.**"
   ]
  },
  {
   "cell_type": "code",
   "execution_count": 88,
   "metadata": {
    "pycharm": {
     "is_executing": false
    }
   },
   "outputs": [
    {
     "name": "stdout",
     "output_type": "stream",
     "text": [
      "Number of tweets = 943\n",
      "Number of labels = 943\n",
      "\n",
      "Samples of data:\n",
      "Country = us \tTweet = @Addictd2Success thx u for following\n",
      "Country = us \tTweet = Let's just say, if I were to ever switch teams, Khalesi would be top of the list. #girlcrush\n",
      "Country = ph \tTweet = Taemin jonghyun!!! Your birits make me go~ http://t.co/le8z3dntlA\n",
      "Country = id \tTweet = depart.senior 👻 rapat perdana (with Nyayu, Anita, and 8 others at Ruang Aescullap FK Unsri Madang) — https://t.co/swRALlNkrQ\n",
      "Country = ph \tTweet = Done with internship with this pretty little lady!  (@ Metropolitan Medical Center w/ 3 others) [pic]: http://t.co/1qH61R1t5r\n",
      "Country = gb \tTweet = Wow just Boruc's clanger! Haha Sunday League stuff that, Giroud couldn't believe his luck! #clown\n",
      "Country = my \tTweet = I'm at Sushi Zanmai (Petaling Jaya, Selangor) w/ 5 others http://t.co/bcNobykZ\n",
      "Country = us \tTweet = Mega Fest!!!! Its going down🙏🙌  @BishopJakes\n",
      "Country = gb \tTweet = @EllexxxPharrell wow love the pic babe xx\n",
      "Country = us \tTweet = You have no clue how much you hurt me\n"
     ]
    }
   ],
   "source": [
    "import json\n",
    "\n",
    "x = []\n",
    "y = []\n",
    "data = json.load(open(\"as1-data.json\"))\n",
    "for k, v in data.items():\n",
    "    x.append(k)\n",
    "    y.append(v)\n",
    "    \n",
    "print(\"Number of tweets =\", len(x))\n",
    "print(\"Number of labels =\", len(y))\n",
    "print(\"\\nSamples of data:\")\n",
    "for i in range(10):\n",
    "    print(\"Country =\", y[i], \"\\tTweet =\", x[i])\n",
    "\n",
    "assert(len(x) == 943)\n",
    "assert(len(y) == 943)"
   ]
  },
  {
   "cell_type": "markdown",
   "metadata": {},
   "source": [
    "### Question 1 (1.0 mark)\n",
    "\n",
    "**Instructions**: Next we need to preprocess the collected tweets to create a bag-of-words representation. The preprocessing steps required here are: (1) tokenize each tweet into individual word tokens (using NLTK `TweetTokenizer`); (2) lowercase all words; (3) remove any word that does not contain any English alphabets (e.g. {_hello_, _#okay_, _abc123_} would be kept, but not {_123_, _!!_}) and (4) remove stopwords (based on NLTK `stopwords`). An empty tweet (after preprocessing) and its country label should be **excluded** from the output (`x_processed` and `y_processed`).\n",
    "\n",
    "**Task**: Complete the `preprocess_data(data, labels)` function. The function takes **a list of tweets** and **a corresponding list of country labels** as input, and returns **two lists**. For the first list, each element is a bag-of-words representation of a tweet. For the second list, each element is a corresponding country label. Note that while we do not need to preprocess the country labels (`y`), we need to have a new output list (`y_processed`) because some tweets maybe removed after the preprocessing (due to having an empty set of bag-of-words).\n",
    "\n",
    "**Check**: Use the assertion statements in <b>\"For your testing\"</b> below for the expected output."
   ]
  },
  {
   "cell_type": "code",
   "execution_count": 89,
   "metadata": {
    "pycharm": {
     "is_executing": true
    }
   },
   "outputs": [
    {
     "name": "stdout",
     "output_type": "stream",
     "text": [
      "Number of preprocessed tweets = 943\n",
      "Number of preprocessed labels = 943\n",
      "\n",
      "Samples of preprocessed data:\n",
      "Country = us \tTweet = {'@addictd2success': 1, 'thx': 1, 'u': 1, 'following': 1}\n",
      "Country = us \tTweet = {\"let's\": 1, 'say': 1, 'ever': 1, 'switch': 1, 'teams': 1, 'khalesi': 1, 'would': 1, 'top': 1, 'list': 1, '#girlcrush': 1}\n",
      "Country = ph \tTweet = {'taemin': 1, 'jonghyun': 1, 'birits': 1, 'make': 1, 'go': 1, 'http://t.co/le8z3dntlA': 1}\n",
      "Country = id \tTweet = {'depart.senior': 1, 'rapat': 1, 'perdana': 1, 'nyayu': 1, 'anita': 1, 'others': 1, 'ruang': 1, 'aescullap': 1, 'fk': 1, 'unsri': 1, 'madang': 1, 'https://t.co/swRALlNkrQ': 1}\n",
      "Country = ph \tTweet = {'done': 1, 'internship': 1, 'pretty': 1, 'little': 1, 'lady': 1, 'metropolitan': 1, 'medical': 1, 'center': 1, 'w': 1, 'others': 1, 'pic': 1, 'http://t.co/1qH61R1t5r': 1}\n",
      "Country = gb \tTweet = {'wow': 1, \"boruc's\": 1, 'clanger': 1, 'haha': 1, 'sunday': 1, 'league': 1, 'stuff': 1, 'giroud': 1, 'believe': 1, 'luck': 1, '#clown': 1}\n",
      "Country = my \tTweet = {\"i'm\": 1, 'sushi': 1, 'zanmai': 1, 'petaling': 1, 'jaya': 1, 'selangor': 1, 'w': 1, 'others': 1, 'http://t.co/bcNobykZ': 1}\n",
      "Country = us \tTweet = {'mega': 1, 'fest': 1, 'going': 1, '@bishopjakes': 1}\n",
      "Country = gb \tTweet = {'@ellexxxpharrell': 1, 'wow': 1, 'love': 1, 'pic': 1, 'babe': 1, 'xx': 1}\n",
      "Country = us \tTweet = {'clue': 1, 'much': 1, 'hurt': 1}\n"
     ]
    }
   ],
   "source": [
    "import nltk\n",
    "from nltk.tokenize import TweetTokenizer\n",
    "from nltk.corpus import stopwords\n",
    "import re\n",
    "\n",
    "tt = TweetTokenizer(preserve_case=False)  # lowercase all words\n",
    "stopwords = set(stopwords.words('english')) #note: stopwords are all in lowercase\n",
    "\n",
    "def preprocess_data(data, labels):\n",
    "    \n",
    "    ###\n",
    "    # Your answer BEGINS HERE\n",
    "    ###\n",
    "    \n",
    "    ## Tokenize each tweet\n",
    "    token_list = [tt.tokenize(tweet) for tweet in data]\n",
    "    \n",
    "    ## Only keep the work tokens containing letters and remove stopwords\n",
    "    label_removal_index = []\n",
    "    BOW_list = []\n",
    "    \n",
    "    for index, tweet_tokens in enumerate(token_list):\n",
    "        tokens_dict = {}\n",
    "        tweet_tokens = [token for token in tweet_tokens \n",
    "                               if (re.search('[A-Za-z]', token) \n",
    "                                   and token not in stopwords )]\n",
    "        if len(tweet_tokens):\n",
    "            for token in tweet_tokens:\n",
    "                if token not in tokens_dict.keys():\n",
    "                    tokens_dict.update({token: 1})\n",
    "                else:\n",
    "                    tokens_dict.update({token: tokens_dict.get(token) + 1})\n",
    "            BOW_list.append(tokens_dict)\n",
    "        else:\n",
    "            label_removal_index.append(index)\n",
    "    \n",
    "    labels_processed = [label for index, label in enumerate(labels) if index not in label_removal_index]\n",
    "    \n",
    "    return BOW_list, labels_processed\n",
    "    # Your answer ENDS HERE\n",
    "    ###\n",
    "\n",
    "x_processed, y_processed = preprocess_data(x, y)\n",
    "\n",
    "print(\"Number of preprocessed tweets =\", len(x_processed))\n",
    "print(\"Number of preprocessed labels =\", len(y_processed))\n",
    "print(\"\\nSamples of preprocessed data:\")\n",
    "for i in range(10):\n",
    "    print(\"Country =\", y_processed[i], \"\\tTweet =\", x_processed[i])"
   ]
  },
  {
   "cell_type": "markdown",
   "metadata": {},
   "source": [
    "**For your testing**:"
   ]
  },
  {
   "cell_type": "code",
   "execution_count": 17,
   "metadata": {
    "pycharm": {
     "is_executing": true
    }
   },
   "outputs": [],
   "source": [
    "assert(len(x_processed) == len(y_processed))\n",
    "assert(len(x_processed) > 800)"
   ]
  },
  {
   "cell_type": "markdown",
   "metadata": {},
   "source": [
    "**Instructions**: Hashtags (i.e. topic tags which start with #) pose an interesting tokenisation problem because they often include multiple words written without spaces or capitalization. Run the code below to collect all unique hashtags in the preprocessed data. **No implementation is needed.**\n",
    "\n"
   ]
  },
  {
   "cell_type": "code",
   "execution_count": 79,
   "metadata": {
    "pycharm": {
     "is_executing": true
    }
   },
   "outputs": [
    {
     "name": "stdout",
     "output_type": "stream",
     "text": [
      "Number of hashtags = 425\n",
      "['#100percentpay', '#1stsundayofoctober', '#1yearofalmostisneverenough', '#2011prdctn', '#2015eebritishfilmacademyawards', '#2k16', '#2littlebirds', '#365picture', '#5sosacousticatlanta', '#5sosfam', '#8thannualpubcrawl', '#affsuzukicup', '#aflpowertigers', '#ahimacon14', '#aim20', '#airasia', '#allcity', '#alliswell', '#allwedoiscurls', '#amazing', '#anferneehardaway', '#ariona', '#art', '#arte', '#artwork', '#ashes', '#asian', '#asiangirl', '#askcrawford', '#askherforfback', '#askolly', '#asksteven', '#at', '#australia', '#awesome', '#awesomepict', '#barcelona', '#bart', '#bayofislands', '#beautiful', '#bedimages', '#bell', '#beringmy', '#bettybooppose', '#bff', '#big', '#bigbertha', '#bigbreakfast', '#blackhat', '#blessedmorethanicanimagine', '#blessedsunday', '#blogtourambiente', '#bluemountains', '#bonekachika', '#boomtaob', '#booyaa', '#bored', '#boredom', '#bradersisterhood', '#breaktime', '#breedingground', '#bringithomemy', '#brooksengland', '#burgers', '#butitsalsokindofaphone', '#bye', '#camera', '#canadaelections', '#cbb', '#cbcolympics', '#cctv', '#cdnpoli', '#celebritycrush', '#chargers', '#chocolate', '#ciosummit', '#cleansidewalk', '#clown', '#coffeespoonart', '#colts', '#confused', '#cornell', '#country', '#craftbeer', '#creative', '#crepes', '#cumannanya', '#danny4mayor', '#data', '#date', '#datingsiteforyou', '#dearmind', '#deed', '#delightful', '#dennisrodman', '#design', '#devacurl', '#die', '#difd', '#diner', '#dinner', '#dragoncon', '#dus', '#dynamounlock', '#earrings', '#eeeeeehhh', '#election2015', '#electriccircus2014', '#endomondo', '#engine', '#english', '#europapark', '#excitables', '#fabulous', '#factorycampus', '#fall', '#familydinner', '#ff', '#fire', '#flambees', '#flashback', '#fly', '#focusateneo', '#followher', '#followme', '#foodporn', '#fotografías', '#fotorus', '#four', '#freaks', '#friday', '#fridaynight', '#fried', '#friends', '#friendshipflow', '#fries', '#frozenyoghurt', '#fun', '#future', '#galaxy', '#getfreetattooaviciipasses', '#girl', '#girlcrush', '#girls', '#givesmehope', '#goingout', '#google', '#graduated', '#grafunkthiremepls', '#grammyfans', '#grandmarnier', '#greenfood', '#grilled', '#gudnytall', '#gunner', '#gym', '#handbuiltbicycle', '#happybirthdaysandarapark', '#happyfriday', '#harimaumalaya', '#hb60', '#hens', '#hippy', '#holiday', '#hollywoodmusicawards', '#homemadegranola', '#hometomama', '#hot', '#hungergames', '#hungry', '#icu', '#ididntchoosethestudentlifeitchoseme', '#iloveyou', '#imsobored', '#imsosore', '#innoretail', '#insanity', '#insightmedia', '#insightmediasingapore', '#instaframeplus', '#instagood', '#instalook', '#isibaya', '#javaboy', '#jed', '#jewelry', '#jo', '#jordaan', '#jrsurfboards', '#justshare', '#kllive', '#ladygaga', '#latepost', '#laugh', '#laundryservice', '#lazysunday', '#learningcommunties', '#lebedeintennis', '#letmesleep', '#lfc', '#lgbt', '#life', '#lipstickfree', '#littlemonsters', '#loadsoffun', '#lol', '#longranger', '#lotsoflove', '#love', '#lovers', '#lovethisgirl', '#lovevibes', '#lte', '#magazinesandtvscreens', '#magic', '#makeupfree', '#makingemuklajawabnya', '#mamajeanneandme', '#mancrush', '#march', '#massacreconspiracy', '#mauce', '#mavic', '#me', '#meetup', '#melbourne', '#michaelkors', '#mindfulness', '#mkmedi', '#mobile', '#morning', '#mountains', '#movies', '#mtlnewtech', '#mtvhottest', '#mushroom', '#music', '#mustfollow', '#mwc14', '#mybabyemilia', '#myfriendsarebetterthanyours', '#nced', '#ncga', '#ncpol', '#nevergetsold', '#new', '#newlooks', '#newrecord', '#nextlevel', '#nfl', '#nickryrie', '#nochillzone', '#nofilter', '#notersnew2014', '#notreally', '#np', '#nye', '#of', '#offtochurch', '#ohyeah', '#oilandgas', '#olah', '#on', '#oops', '#openspace', '#oscars', '#oui', '#palacefansinthemorning', '#panther', '#panthers', '#partyhardpartyy', '#pats', '#pechanga', '#penny', '#peperoni', '#peppermoney', '#photo', '#photoby', '#photography', '#pic', '#pll', '#pmattheashes', '#pop-up', '#positivity', '#potd', '#procrastination', '#promise', '#purplefriday', '#rainorshine', '#reachingyougpeople', '#realgoodbikes', '#redbull', '#retail', '#revfcwh', '#rippaulwalker', '#ritenow', '#rollercoaster', '#rollersmusicawards', '#rollsroyce', '#rose', '#rosegold', '#rt', '#rundude', '#ryanpurrdler', '#sad', '#safm', '#saints', '#samsung', '#sandwich', '#sarahm', '#saulbass', '#scifigeek', '#security', '#seniorbabysenior', '#sexy', '#sfgiants', '#sggirls', '#shakes', '#shakethatbooty', '#shellvpower', '#shenanigans', '#shopaholic', '#siberuang', '#silver', '#singapore', '#singlefighter', '#sinvsmas', '#skeemsaam', '#skullsearcher', '#sl', '#socal', '#sorrynotsorry', '#southampton', '#spafy', '#spicy', '#spider', '#squad', '#stampede2014', '#startupfest', '#startuphub', '#starving', '#statoftheday', '#stayfreshsaturdaydbn', '#stkilda', '#stop', '#stopcomplaining', '#strictlyus', '#studio', '#summer', '#sun', '#sunrise', '#sunshine', '#supremelaundry', '#surfshop', '#swedumtl', '#sycip', '#taintedlove', '#takeabreak', '#tcschleissheim', '#tdwpliveinkl', '#teamcanada', '#tennis', '#thaiexpress', '#thaifood', '#thankful', '#thankyoulord', '#thankyoupatients', '#thecolorrun2014', '#thedisadvantagesofakindle', '#them', '#thenext5goldenyears', '#thevoiceau', '#thewalkingdead', '#thomassabo', '#throwback', '#thursday', '#ticklish', '#toronto', '#tpcoach', '#transit', '#truegrip', '#tuesday', '#tune', '#turbine', '#txlege', '#ujackbastards', '#umg', '#uniexamonasaturday', '#universal', '#uptonogood', '#urbangardening', '#uss', '#usydhereicome', '#usydoweek', '#utopia', '#vanilla', '#vca', '#vegan', '#veganfood', '#vegetables', '#vegetarian', '#video', '#vma', '#voteonedirection', '#vsco', '#vscocam', '#walking', '#watch', '#weare90s', '#wearesocial', '#white', '#wings', '#wok', '#wood', '#work', '#workmates', '#world', '#worldcup2014', '#yellow', '#yiamas', '#ynwa', '#youtube', '#yummy', '#yws13', '#zweihandvollfarm']\n"
     ]
    }
   ],
   "source": [
    "def get_all_hashtags(data):\n",
    "    hashtags = set([])\n",
    "    for d in data:\n",
    "        for word, frequency in d.items():\n",
    "            if word.startswith(\"#\") and len(word) > 1:\n",
    "                hashtags.add(word)\n",
    "    return hashtags\n",
    "\n",
    "hashtags = get_all_hashtags(x_processed)\n",
    "print(\"Number of hashtags =\", len(hashtags))\n",
    "print(sorted(hashtags))"
   ]
  },
  {
   "cell_type": "markdown",
   "metadata": {},
   "source": [
    "### Question 2 (1.0 mark)\n",
    "\n",
    "**Instructions**: Our task here to tokenize the hashtags, by implementing the **MaxMatch algorithm** discussed in class.\n",
    "\n",
    "NLTK has a list of words that you can use for matching, see starter code below (`words`). Be careful about efficiency with respect to doing word lookups. One extra challenge you have to deal with is that the provided list of words (`words`) includes only lemmas: your MaxMatch algorithm should match inflected forms by converting them into lemmas using the NLTK lemmatizer before matching (provided by the function `lemmatize(word)`). Note that the list of words (`words`) is the only source that you'll use for matching (i.e. you do not need to find  other external word lists). If you are unable to make any longer match, your code should default to matching a single letter.\n",
    "\n",
    "For example, given \"#newrecord\", the algorithm should produce: \\[\"#\", \"new\", \"record\"\\].\n",
    "\n",
    "**Task**: Complete the `tokenize_hashtags(hashtags)` function by implementing the MaxMatch algorithm. The function takes as input **a set of hashtags**, and returns **a dictionary** where key=\"hashtag\" and value=\"a list of tokenised words\".\n",
    "\n",
    "**Check**: Use the assertion statements in <b>\"For your testing\"</b> below for the expected output."
   ]
  },
  {
   "cell_type": "code",
   "execution_count": 80,
   "metadata": {
    "pycharm": {
     "is_executing": true
    }
   },
   "outputs": [
    {
     "name": "stdout",
     "output_type": "stream",
     "text": [
      "#vanilla ['#', 'vanilla']\n",
      "#vca ['#', 'v', 'ca']\n",
      "#vegan ['#', 'vega', 'n']\n",
      "#veganfood ['#', 'vega', 'n', 'food']\n",
      "#vegetables ['#', 'vegetable']\n",
      "#vegetarian ['#', 'vegetarian']\n",
      "#video ['#', 'video']\n",
      "#vma ['#', 'v', 'ma']\n",
      "#voteonedirection ['#', 'vote', 'one', 'direction']\n",
      "#vsco ['#', 'v', 's', 'c', 'o']\n",
      "#vscocam ['#', 'v', 's', 'coca', 'm']\n",
      "#walking ['#', 'walk']\n",
      "#watch ['#', 'watch']\n",
      "#weare90s ['#', 'wear', 'e', '90', 's']\n",
      "#wearesocial ['#', 'wear', 'es', 'o', 'c', 'i', 'al']\n",
      "#white ['#', 'white']\n",
      "#wings ['#', 'wing']\n",
      "#wok ['#', 'wo', 'k']\n",
      "#wood ['#', 'wood']\n",
      "#work ['#', 'work']\n",
      "#workmates ['#', 'work', 'mate']\n",
      "#world ['#', 'world']\n",
      "#worldcup2014 ['#', 'world', 'cup', '2014']\n",
      "#yellow ['#', 'yellow']\n",
      "#yiamas ['#', 'y', 'i', 'ama', 's']\n",
      "#ynwa ['#', 'yn', 'wa']\n",
      "#youtube ['#', 'you', 'tube']\n",
      "#yummy ['#', 'yummy']\n",
      "#yws13 ['#', 'y', 'w', 's', '13']\n",
      "#zweihandvollfarm ['#', 'z', 'wei', 'hand', 'vol', 'l', 'farm']\n"
     ]
    }
   ],
   "source": [
    "from nltk.corpus import wordnet\n",
    "\n",
    "lemmatizer = nltk.stem.wordnet.WordNetLemmatizer()\n",
    "words = set(nltk.corpus.words.words()) #a list of words provided by NLTK\n",
    "words = set([ word.lower() for word in words ]) #lowercase all the words for better matching\n",
    "\n",
    "def lemmatize(word):\n",
    "    lemma = lemmatizer.lemmatize(word,'v')\n",
    "    if lemma == word:\n",
    "        lemma = lemmatizer.lemmatize(word,'n')\n",
    "    return lemma\n",
    "\n",
    "# The program will run 5 seconds or so\n",
    "def tokenize_hashtags(hashtags):\n",
    "    tokenized_hashtags = {}\n",
    "\n",
    "    for hashtag in hashtags:\n",
    "        i = 0\n",
    "        tokens = []\n",
    "        hashtag_text = hashtag[1:]\n",
    "        hashtag_text = lemmatize(hashtag_text)\n",
    "        matched_words = []\n",
    "        non_words = ''\n",
    "        wordCheckFlag = False\n",
    "\n",
    "        for word in words:\n",
    "            if word in hashtag_text:\n",
    "                matched_words.append(word)\n",
    "\n",
    "        while i < len(hashtag_text):\n",
    "            maxMatchedWord = \"\"\n",
    "            for j in range(i, len(hashtag_text)):\n",
    "                tempWord = hashtag_text[i:j + 1]\n",
    "                if tempWord in matched_words and len(tempWord) > len(maxMatchedWord):\n",
    "                    maxMatchedWord = tempWord\n",
    "            if len(maxMatchedWord):\n",
    "                \n",
    "                if wordCheckFlag:\n",
    "                    tokens.append(non_words)\n",
    "                    non_words = ''\n",
    "                    wordCheckFlag = False\n",
    "\n",
    "                i = i + len(maxMatchedWord)\n",
    "                tokens.append(maxMatchedWord)\n",
    "            else:\n",
    "                wordCheckFlag = True\n",
    "                non_words = non_words + hashtag_text[i]\n",
    "                if i == len(hashtag_text) - 1:\n",
    "                    tokens.append(non_words)\n",
    "                i = i + 1\n",
    "\n",
    "\n",
    "        tokens.insert(0, '#')\n",
    "        tokenized_hashtags.update({hashtag: tokens})\n",
    "\n",
    "    return tokenized_hashtags\n",
    "\n",
    "\n",
    "\n",
    "#tokenise hashtags with MaxMatch\n",
    "tokenized_hashtags = tokenize_hashtags(hashtags)\n",
    "\n",
    "#print results\n",
    "for k, v in sorted(tokenized_hashtags.items())[-30:]:\n",
    "    print(k, v)"
   ]
  },
  {
   "cell_type": "markdown",
   "metadata": {},
   "source": [
    "**For your testing:**"
   ]
  },
  {
   "cell_type": "code",
   "execution_count": 81,
   "metadata": {
    "pycharm": {
     "is_executing": true
    }
   },
   "outputs": [],
   "source": [
    "assert(len(tokenized_hashtags) == len(hashtags))\n",
    "assert(tokenized_hashtags[\"#newrecord\"] == [\"#\", \"new\", \"record\"])"
   ]
  },
  {
   "cell_type": "markdown",
   "metadata": {},
   "source": [
    "### Question 3 (1.0 mark)\n",
    "\n",
    "**Instructions**: Our next task is to tokenize the hashtags again, but this time using a **reversed version of the MaxMatch algorithm**, where matching begins at the end of the hashtag and progresses backwards (e.g. for <i>#helloworld</i>, we would process it right to left, starting from the last character <i>d</i>). Just like before, you should use the provided word list (`words`) for word matching.\n",
    "\n",
    "**Task**: Complete the `tokenize_hashtags_rev(hashtags)` function by the MaxMatch algorithm. The function takes as input **a set of hashtags**, and returns **a dictionary** where key=\"hashtag\" and value=\"a list of tokenised words\".\n",
    "\n",
    "**Check**: Use the assertion statements in <b>\"For your testing\"</b> below for the expected output."
   ]
  },
  {
   "cell_type": "code",
   "execution_count": 82,
   "metadata": {
    "pycharm": {
     "is_executing": true
    }
   },
   "outputs": [
    {
     "name": "stdout",
     "output_type": "stream",
     "text": [
      "#vanilla ['#', 'vanilla']\n",
      "#vca ['#', 'v', 'ca']\n",
      "#vegan ['#', 'v', 'e', 'gan']\n",
      "#veganfood ['#', 'v', 'e', 'gan', 'food']\n",
      "#vegetables ['#', 'vegetable']\n",
      "#vegetarian ['#', 'vegetarian']\n",
      "#video ['#', 'video']\n",
      "#vma ['#', 'v', 'ma']\n",
      "#voteonedirection ['#', 'vote', 'one', 'direction']\n",
      "#vsco ['#', 'v', 's', 'c', 'o']\n",
      "#vscocam ['#', 'v', 's', 'c', 'o', 'cam']\n",
      "#walking ['#', 'walk']\n",
      "#watch ['#', 'watch']\n",
      "#weare90s ['#', 'we', 'are', '90', 's']\n",
      "#wearesocial ['#', 'we', 'are', 'social']\n",
      "#white ['#', 'white']\n",
      "#wings ['#', 'wing']\n",
      "#wok ['#', 'w', 'ok']\n",
      "#wood ['#', 'wood']\n",
      "#work ['#', 'work']\n",
      "#workmates ['#', 'work', 'mate']\n",
      "#world ['#', 'world']\n",
      "#worldcup2014 ['#', 'world', 'cup', '2014']\n",
      "#yellow ['#', 'yellow']\n",
      "#yiamas ['#', 'y', 'i', 'a', 'mas']\n",
      "#ynwa ['#', 'yn', 'wa']\n",
      "#youtube ['#', 'you', 'tube']\n",
      "#yummy ['#', 'yummy']\n",
      "#yws13 ['#', 'y', 'w', 's', '13']\n",
      "#zweihandvollfarm ['#', 'z', 'wei', 'hand', 'vol', 'l', 'farm']\n"
     ]
    }
   ],
   "source": [
    "def tokenize_hashtags_rev(hashtags):\n",
    "    tokenized_hashtags = {}\n",
    "\n",
    "    for hashtag in hashtags:\n",
    "        tokens = []\n",
    "        hashtag_text = hashtag[1:]\n",
    "        hashtag_text = lemmatize(hashtag_text)\n",
    "        matched_words = []\n",
    "        non_words = ''\n",
    "        wordCheckFlag = False\n",
    "        i = len(hashtag_text) - 1\n",
    "\n",
    "        for word in words:\n",
    "            if word in hashtag_text:\n",
    "                matched_words.append(word)\n",
    "\n",
    "        while i >= 0:\n",
    "            maxMatchedWord = \"\"\n",
    "            for j in range(i, -1, -1):\n",
    "\n",
    "                tempWord = hashtag_text[j: i + 1]\n",
    "\n",
    "                if tempWord in matched_words and len(tempWord) > len(maxMatchedWord):\n",
    "                    maxMatchedWord = tempWord\n",
    "\n",
    "            if len(maxMatchedWord):\n",
    "\n",
    "                if wordCheckFlag:\n",
    "                    non_words = non_words[::-1]\n",
    "                    tokens.append(non_words)\n",
    "                    non_words = ''\n",
    "                    wordCheckFlag = False\n",
    "\n",
    "                i = i - len(maxMatchedWord)\n",
    "                tokens.append(maxMatchedWord)\n",
    "            else:\n",
    "                wordCheckFlag = True\n",
    "                non_words = non_words + hashtag_text[i]\n",
    "                if i == 0:\n",
    "                    non_words = non_words[::-1]\n",
    "                    tokens.append(non_words)\n",
    "                i = i - 1\n",
    "                \n",
    "        tokens = tokens[::-1]\n",
    "        tokens.insert(0, '#')\n",
    "        tokenized_hashtags.update({hashtag: tokens})\n",
    "\n",
    "    return tokenized_hashtags\n",
    "\n",
    "    \n",
    "#tokenise hashtags with the reversed version of MaxMatch\n",
    "tokenized_hashtags_rev = tokenize_hashtags_rev(hashtags)\n",
    "\n",
    "#print results\n",
    "for k, v in sorted(tokenized_hashtags_rev.items())[-30:]:\n",
    "    print(k, v)"
   ]
  },
  {
   "cell_type": "markdown",
   "metadata": {},
   "source": [
    "**For your testing:**"
   ]
  },
  {
   "cell_type": "code",
   "execution_count": 83,
   "metadata": {
    "pycharm": {
     "is_executing": true
    }
   },
   "outputs": [],
   "source": [
    "assert(len(tokenized_hashtags_rev) == len(hashtags))\n",
    "assert(tokenized_hashtags_rev[\"#newrecord\"] == [\"#\", \"new\", \"record\"])"
   ]
  },
  {
   "cell_type": "markdown",
   "metadata": {},
   "source": [
    "### Question 4 (1.0 mark)\n",
    "\n",
    "**Instructions**: The two versions of MaxMatch will produce different results for some of the hashtags. For a hastag that has different results, our task here is to use a **unigram language model** (lecture 3) to score them to see which is better. Recall that in a unigram language model we compute P(<i>#</i>, <i>hello</i>, <i>world</i> = P(<i>#</i>)\\*P(<i>hellow</i>)\\*P(<i>world</i>).\n",
    "\n",
    "You should: (1) use the NLTK's Brown corpus (`brown_words`) for collecting word frequencies (note: the words are already tokenised so no further tokenisation is needed); (2) lowercase all words in the corpus; (3) use add-one smoothing when computing the unigram probabilities; and (4) work in the log space to prevent numerical underflow.\n",
    "\n",
    "**Task**: Build a unigram language model with add-one smoothing using the word counts from the Brown corpus. Iterate through the hashtags, and for each hashtag where MaxMatch and reversed MaxMatch produce different results, print the following: (1) the hashtag; (2) the results produced by MaxMatch and reversed MaxMatch; and (3) the log probability of each result as given by the unigram language model. Note: you **do not** need to print the hashtags where MaxMatch and reversed MaxMatch produce the same results.\n",
    "\n",
    "An example output:\n",
    "```\n",
    "1. #abcd\n",
    "MaxMatch = [#, a, bc, d]; LogProb = -2.3\n",
    "Reversed MaxMatch = [#, a, b, cd]; LogProb = -3.5\n",
    "\n",
    "2. #efgh\n",
    "MaxMatch = [#, ef, g, h]; LogProb = -4.2\n",
    "Reversed MaxMatch = [#, e, fgh]; LogProb = -3.1\n",
    "\n",
    "```\n",
    "\n",
    "Have a look at the output, and see if the sequences with better language model scores (i.e. less negative) are generally more coherent."
   ]
  },
  {
   "cell_type": "code",
   "execution_count": 90,
   "metadata": {
    "pycharm": {
     "is_executing": true
    }
   },
   "outputs": [
    {
     "ename": "KeyboardInterrupt",
     "evalue": "",
     "output_type": "error",
     "traceback": [
      "\u001b[1;31m---------------------------------------------------------------------------\u001b[0m",
      "\u001b[1;31mKeyboardInterrupt\u001b[0m                         Traceback (most recent call last)",
      "\u001b[1;32m<ipython-input-90-d2dc68f43fa5>\u001b[0m in \u001b[0;36m<module>\u001b[1;34m\u001b[0m\n\u001b[0;32m      9\u001b[0m \u001b[0mwords_size\u001b[0m \u001b[1;33m=\u001b[0m \u001b[0mlen\u001b[0m\u001b[1;33m(\u001b[0m\u001b[0mbrown_words\u001b[0m\u001b[1;33m)\u001b[0m\u001b[1;33m\u001b[0m\u001b[1;33m\u001b[0m\u001b[0m\n\u001b[0;32m     10\u001b[0m \u001b[1;33m\u001b[0m\u001b[0m\n\u001b[1;32m---> 11\u001b[1;33m \u001b[0mfdist\u001b[0m \u001b[1;33m=\u001b[0m \u001b[0mFreqDist\u001b[0m\u001b[1;33m(\u001b[0m\u001b[0mword\u001b[0m\u001b[1;33m.\u001b[0m\u001b[0mlower\u001b[0m\u001b[1;33m(\u001b[0m\u001b[1;33m)\u001b[0m \u001b[1;32mfor\u001b[0m \u001b[0mword\u001b[0m \u001b[1;32min\u001b[0m \u001b[0mbrown_words\u001b[0m\u001b[1;33m)\u001b[0m  \u001b[1;31m# lowercase all words in the corpus and calculate counts\u001b[0m\u001b[1;33m\u001b[0m\u001b[1;33m\u001b[0m\u001b[0m\n\u001b[0m\u001b[0;32m     12\u001b[0m \u001b[0mindex_num\u001b[0m \u001b[1;33m=\u001b[0m \u001b[1;36m0\u001b[0m\u001b[1;33m\u001b[0m\u001b[1;33m\u001b[0m\u001b[0m\n\u001b[0;32m     13\u001b[0m \u001b[0mdiff_list\u001b[0m \u001b[1;33m=\u001b[0m \u001b[1;33m[\u001b[0m\u001b[1;33m]\u001b[0m\u001b[1;33m\u001b[0m\u001b[1;33m\u001b[0m\u001b[0m\n",
      "\u001b[1;32mC:\\D_Disk\\anaconda\\install\\envs\\nlp\\lib\\site-packages\\nltk\\probability.py\u001b[0m in \u001b[0;36m__init__\u001b[1;34m(self, samples)\u001b[0m\n\u001b[0;32m    106\u001b[0m         \u001b[1;33m:\u001b[0m\u001b[0mtype\u001b[0m \u001b[0msamples\u001b[0m\u001b[1;33m:\u001b[0m \u001b[0mSequence\u001b[0m\u001b[1;33m\u001b[0m\u001b[1;33m\u001b[0m\u001b[0m\n\u001b[0;32m    107\u001b[0m         \"\"\"\n\u001b[1;32m--> 108\u001b[1;33m         \u001b[0mCounter\u001b[0m\u001b[1;33m.\u001b[0m\u001b[0m__init__\u001b[0m\u001b[1;33m(\u001b[0m\u001b[0mself\u001b[0m\u001b[1;33m,\u001b[0m \u001b[0msamples\u001b[0m\u001b[1;33m)\u001b[0m\u001b[1;33m\u001b[0m\u001b[1;33m\u001b[0m\u001b[0m\n\u001b[0m\u001b[0;32m    109\u001b[0m \u001b[1;33m\u001b[0m\u001b[0m\n\u001b[0;32m    110\u001b[0m         \u001b[1;31m# Cached number of samples in this FreqDist\u001b[0m\u001b[1;33m\u001b[0m\u001b[1;33m\u001b[0m\u001b[1;33m\u001b[0m\u001b[0m\n",
      "\u001b[1;32mC:\\D_Disk\\anaconda\\install\\envs\\nlp\\lib\\collections\\__init__.py\u001b[0m in \u001b[0;36m__init__\u001b[1;34m(self, iterable, **kwds)\u001b[0m\n\u001b[0;32m    591\u001b[0m         '''\n\u001b[0;32m    592\u001b[0m         \u001b[0msuper\u001b[0m\u001b[1;33m(\u001b[0m\u001b[1;33m)\u001b[0m\u001b[1;33m.\u001b[0m\u001b[0m__init__\u001b[0m\u001b[1;33m(\u001b[0m\u001b[1;33m)\u001b[0m\u001b[1;33m\u001b[0m\u001b[1;33m\u001b[0m\u001b[0m\n\u001b[1;32m--> 593\u001b[1;33m         \u001b[0mself\u001b[0m\u001b[1;33m.\u001b[0m\u001b[0mupdate\u001b[0m\u001b[1;33m(\u001b[0m\u001b[0miterable\u001b[0m\u001b[1;33m,\u001b[0m \u001b[1;33m**\u001b[0m\u001b[0mkwds\u001b[0m\u001b[1;33m)\u001b[0m\u001b[1;33m\u001b[0m\u001b[1;33m\u001b[0m\u001b[0m\n\u001b[0m\u001b[0;32m    594\u001b[0m \u001b[1;33m\u001b[0m\u001b[0m\n\u001b[0;32m    595\u001b[0m     \u001b[1;32mdef\u001b[0m \u001b[0m__missing__\u001b[0m\u001b[1;33m(\u001b[0m\u001b[0mself\u001b[0m\u001b[1;33m,\u001b[0m \u001b[0mkey\u001b[0m\u001b[1;33m)\u001b[0m\u001b[1;33m:\u001b[0m\u001b[1;33m\u001b[0m\u001b[1;33m\u001b[0m\u001b[0m\n",
      "\u001b[1;32mC:\\D_Disk\\anaconda\\install\\envs\\nlp\\lib\\site-packages\\nltk\\probability.py\u001b[0m in \u001b[0;36mupdate\u001b[1;34m(self, *args, **kwargs)\u001b[0m\n\u001b[0;32m    144\u001b[0m         \"\"\"\n\u001b[0;32m    145\u001b[0m         \u001b[0mself\u001b[0m\u001b[1;33m.\u001b[0m\u001b[0m_N\u001b[0m \u001b[1;33m=\u001b[0m \u001b[1;32mNone\u001b[0m\u001b[1;33m\u001b[0m\u001b[1;33m\u001b[0m\u001b[0m\n\u001b[1;32m--> 146\u001b[1;33m         \u001b[0msuper\u001b[0m\u001b[1;33m(\u001b[0m\u001b[0mFreqDist\u001b[0m\u001b[1;33m,\u001b[0m \u001b[0mself\u001b[0m\u001b[1;33m)\u001b[0m\u001b[1;33m.\u001b[0m\u001b[0mupdate\u001b[0m\u001b[1;33m(\u001b[0m\u001b[1;33m*\u001b[0m\u001b[0margs\u001b[0m\u001b[1;33m,\u001b[0m \u001b[1;33m**\u001b[0m\u001b[0mkwargs\u001b[0m\u001b[1;33m)\u001b[0m\u001b[1;33m\u001b[0m\u001b[1;33m\u001b[0m\u001b[0m\n\u001b[0m\u001b[0;32m    147\u001b[0m \u001b[1;33m\u001b[0m\u001b[0m\n\u001b[0;32m    148\u001b[0m     \u001b[1;32mdef\u001b[0m \u001b[0msetdefault\u001b[0m\u001b[1;33m(\u001b[0m\u001b[0mself\u001b[0m\u001b[1;33m,\u001b[0m \u001b[0mkey\u001b[0m\u001b[1;33m,\u001b[0m \u001b[0mval\u001b[0m\u001b[1;33m)\u001b[0m\u001b[1;33m:\u001b[0m\u001b[1;33m\u001b[0m\u001b[1;33m\u001b[0m\u001b[0m\n",
      "\u001b[1;32mC:\\D_Disk\\anaconda\\install\\envs\\nlp\\lib\\collections\\__init__.py\u001b[0m in \u001b[0;36mupdate\u001b[1;34m(self, iterable, **kwds)\u001b[0m\n\u001b[0;32m    677\u001b[0m                     \u001b[0msuper\u001b[0m\u001b[1;33m(\u001b[0m\u001b[1;33m)\u001b[0m\u001b[1;33m.\u001b[0m\u001b[0mupdate\u001b[0m\u001b[1;33m(\u001b[0m\u001b[0miterable\u001b[0m\u001b[1;33m)\u001b[0m\u001b[1;33m\u001b[0m\u001b[1;33m\u001b[0m\u001b[0m\n\u001b[0;32m    678\u001b[0m             \u001b[1;32melse\u001b[0m\u001b[1;33m:\u001b[0m\u001b[1;33m\u001b[0m\u001b[1;33m\u001b[0m\u001b[0m\n\u001b[1;32m--> 679\u001b[1;33m                 \u001b[0m_count_elements\u001b[0m\u001b[1;33m(\u001b[0m\u001b[0mself\u001b[0m\u001b[1;33m,\u001b[0m \u001b[0miterable\u001b[0m\u001b[1;33m)\u001b[0m\u001b[1;33m\u001b[0m\u001b[1;33m\u001b[0m\u001b[0m\n\u001b[0m\u001b[0;32m    680\u001b[0m         \u001b[1;32mif\u001b[0m \u001b[0mkwds\u001b[0m\u001b[1;33m:\u001b[0m\u001b[1;33m\u001b[0m\u001b[1;33m\u001b[0m\u001b[0m\n\u001b[0;32m    681\u001b[0m             \u001b[0mself\u001b[0m\u001b[1;33m.\u001b[0m\u001b[0mupdate\u001b[0m\u001b[1;33m(\u001b[0m\u001b[0mkwds\u001b[0m\u001b[1;33m)\u001b[0m\u001b[1;33m\u001b[0m\u001b[1;33m\u001b[0m\u001b[0m\n",
      "\u001b[1;32m<ipython-input-90-d2dc68f43fa5>\u001b[0m in \u001b[0;36m<genexpr>\u001b[1;34m(.0)\u001b[0m\n\u001b[0;32m      9\u001b[0m \u001b[0mwords_size\u001b[0m \u001b[1;33m=\u001b[0m \u001b[0mlen\u001b[0m\u001b[1;33m(\u001b[0m\u001b[0mbrown_words\u001b[0m\u001b[1;33m)\u001b[0m\u001b[1;33m\u001b[0m\u001b[1;33m\u001b[0m\u001b[0m\n\u001b[0;32m     10\u001b[0m \u001b[1;33m\u001b[0m\u001b[0m\n\u001b[1;32m---> 11\u001b[1;33m \u001b[0mfdist\u001b[0m \u001b[1;33m=\u001b[0m \u001b[0mFreqDist\u001b[0m\u001b[1;33m(\u001b[0m\u001b[0mword\u001b[0m\u001b[1;33m.\u001b[0m\u001b[0mlower\u001b[0m\u001b[1;33m(\u001b[0m\u001b[1;33m)\u001b[0m \u001b[1;32mfor\u001b[0m \u001b[0mword\u001b[0m \u001b[1;32min\u001b[0m \u001b[0mbrown_words\u001b[0m\u001b[1;33m)\u001b[0m  \u001b[1;31m# lowercase all words in the corpus and calculate counts\u001b[0m\u001b[1;33m\u001b[0m\u001b[1;33m\u001b[0m\u001b[0m\n\u001b[0m\u001b[0;32m     12\u001b[0m \u001b[0mindex_num\u001b[0m \u001b[1;33m=\u001b[0m \u001b[1;36m0\u001b[0m\u001b[1;33m\u001b[0m\u001b[1;33m\u001b[0m\u001b[0m\n\u001b[0;32m     13\u001b[0m \u001b[0mdiff_list\u001b[0m \u001b[1;33m=\u001b[0m \u001b[1;33m[\u001b[0m\u001b[1;33m]\u001b[0m\u001b[1;33m\u001b[0m\u001b[1;33m\u001b[0m\u001b[0m\n",
      "\u001b[1;32mC:\\D_Disk\\anaconda\\install\\envs\\nlp\\lib\\site-packages\\nltk\\corpus\\reader\\util.py\u001b[0m in \u001b[0;36miterate_from\u001b[1;34m(self, start_tok)\u001b[0m\n\u001b[0;32m    420\u001b[0m \u001b[1;33m\u001b[0m\u001b[0m\n\u001b[0;32m    421\u001b[0m             \u001b[1;31m# Get everything we can from this piece.\u001b[0m\u001b[1;33m\u001b[0m\u001b[1;33m\u001b[0m\u001b[1;33m\u001b[0m\u001b[0m\n\u001b[1;32m--> 422\u001b[1;33m             \u001b[1;32mfor\u001b[0m \u001b[0mtok\u001b[0m \u001b[1;32min\u001b[0m \u001b[0mpiece\u001b[0m\u001b[1;33m.\u001b[0m\u001b[0miterate_from\u001b[0m\u001b[1;33m(\u001b[0m\u001b[0mmax\u001b[0m\u001b[1;33m(\u001b[0m\u001b[1;36m0\u001b[0m\u001b[1;33m,\u001b[0m \u001b[0mstart_tok\u001b[0m \u001b[1;33m-\u001b[0m \u001b[0moffset\u001b[0m\u001b[1;33m)\u001b[0m\u001b[1;33m)\u001b[0m\u001b[1;33m:\u001b[0m\u001b[1;33m\u001b[0m\u001b[1;33m\u001b[0m\u001b[0m\n\u001b[0m\u001b[0;32m    423\u001b[0m                 \u001b[1;32myield\u001b[0m \u001b[0mtok\u001b[0m\u001b[1;33m\u001b[0m\u001b[1;33m\u001b[0m\u001b[0m\n\u001b[0;32m    424\u001b[0m \u001b[1;33m\u001b[0m\u001b[0m\n",
      "\u001b[1;32mC:\\D_Disk\\anaconda\\install\\envs\\nlp\\lib\\site-packages\\nltk\\corpus\\reader\\util.py\u001b[0m in \u001b[0;36miterate_from\u001b[1;34m(self, start_tok)\u001b[0m\n\u001b[0;32m    310\u001b[0m             )\n\u001b[0;32m    311\u001b[0m             \u001b[0mnum_toks\u001b[0m \u001b[1;33m=\u001b[0m \u001b[0mlen\u001b[0m\u001b[1;33m(\u001b[0m\u001b[0mtokens\u001b[0m\u001b[1;33m)\u001b[0m\u001b[1;33m\u001b[0m\u001b[1;33m\u001b[0m\u001b[0m\n\u001b[1;32m--> 312\u001b[1;33m             \u001b[0mnew_filepos\u001b[0m \u001b[1;33m=\u001b[0m \u001b[0mself\u001b[0m\u001b[1;33m.\u001b[0m\u001b[0m_stream\u001b[0m\u001b[1;33m.\u001b[0m\u001b[0mtell\u001b[0m\u001b[1;33m(\u001b[0m\u001b[1;33m)\u001b[0m\u001b[1;33m\u001b[0m\u001b[1;33m\u001b[0m\u001b[0m\n\u001b[0m\u001b[0;32m    313\u001b[0m             assert new_filepos > filepos, (\n\u001b[0;32m    314\u001b[0m                 \u001b[1;34m'block reader %s() should consume at least 1 byte (filepos=%d)'\u001b[0m\u001b[1;33m\u001b[0m\u001b[1;33m\u001b[0m\u001b[0m\n",
      "\u001b[1;32mC:\\D_Disk\\anaconda\\install\\envs\\nlp\\lib\\site-packages\\nltk\\data.py\u001b[0m in \u001b[0;36mtell\u001b[1;34m(self)\u001b[0m\n\u001b[0;32m   1415\u001b[0m         \u001b[0mself\u001b[0m\u001b[1;33m.\u001b[0m\u001b[0mstream\u001b[0m\u001b[1;33m.\u001b[0m\u001b[0mseek\u001b[0m\u001b[1;33m(\u001b[0m\u001b[0mself\u001b[0m\u001b[1;33m.\u001b[0m\u001b[0m_rewind_checkpoint\u001b[0m\u001b[1;33m)\u001b[0m\u001b[1;33m\u001b[0m\u001b[1;33m\u001b[0m\u001b[0m\n\u001b[0;32m   1416\u001b[0m         \u001b[0mself\u001b[0m\u001b[1;33m.\u001b[0m\u001b[0m_char_seek_forward\u001b[0m\u001b[1;33m(\u001b[0m\u001b[0mself\u001b[0m\u001b[1;33m.\u001b[0m\u001b[0m_rewind_numchars\u001b[0m\u001b[1;33m,\u001b[0m \u001b[0mest_bytes\u001b[0m\u001b[1;33m)\u001b[0m\u001b[1;33m\u001b[0m\u001b[1;33m\u001b[0m\u001b[0m\n\u001b[1;32m-> 1417\u001b[1;33m         \u001b[0mfilepos\u001b[0m \u001b[1;33m=\u001b[0m \u001b[0mself\u001b[0m\u001b[1;33m.\u001b[0m\u001b[0mstream\u001b[0m\u001b[1;33m.\u001b[0m\u001b[0mtell\u001b[0m\u001b[1;33m(\u001b[0m\u001b[1;33m)\u001b[0m\u001b[1;33m\u001b[0m\u001b[1;33m\u001b[0m\u001b[0m\n\u001b[0m\u001b[0;32m   1418\u001b[0m \u001b[1;33m\u001b[0m\u001b[0m\n\u001b[0;32m   1419\u001b[0m         \u001b[1;31m# Sanity check\u001b[0m\u001b[1;33m\u001b[0m\u001b[1;33m\u001b[0m\u001b[1;33m\u001b[0m\u001b[0m\n",
      "\u001b[1;31mKeyboardInterrupt\u001b[0m: "
     ]
    }
   ],
   "source": [
    "from nltk.corpus import brown\n",
    "from nltk.probability import FreqDist\n",
    "import math\n",
    "import numpy as np\n",
    "\n",
    "#words from brown corpus\n",
    "brown_words = brown.words()\n",
    "vocab_size = len(set(brown_words)) # the size of the vocabulary of the brown corpus\n",
    "words_size = len(brown_words)\n",
    "\n",
    "fdist = FreqDist(word.lower() for word in brown_words)  # lowercase all words in the corpus and calculate counts\n",
    "index_num = 0\n",
    "diff_list = []\n",
    "\n",
    "\n",
    "def prob_calc(hashtag):\n",
    "    prob_maxMatch = 1\n",
    "    prob_maxMatchRev = 1\n",
    "\n",
    "    tokens_maxMatch = tokenized_hashtags.get(hashtag)\n",
    "    tokens_maxMatchRev = tokenized_hashtags_rev.get(hashtag)\n",
    "\n",
    "    for token in tokens_maxMatch:\n",
    "        prob_maxMatch = prob_maxMatch * (fdist[token] + 1) / (words_size + vocab_size) # add-one smoothing\n",
    "\n",
    "    for token in tokens_maxMatchRev:\n",
    "        prob_maxMatchRev = prob_maxMatchRev * (fdist[token] + 1) / (words_size + vocab_size) # add-one smoothing\n",
    "\n",
    "    logProb_maxMatch = round(math.log(prob_maxMatch), 1) # log transformation and keep one digit\n",
    "    logProb_maxMatchRev = round(math.log(prob_maxMatchRev), 1)\n",
    "    prob_maxMatch = 1\n",
    "    prob_maxMatchRev = 1\n",
    "\n",
    "    if logProb_maxMatch != logProb_maxMatchRev:\n",
    "        return [logProb_maxMatch, logProb_maxMatchRev]\n",
    "    else:\n",
    "        return\n",
    "\n",
    "\n",
    "def display(hashtag, probList, index):\n",
    "    mes = str(index) + '. ' + hashtag + '\\n' + \\\n",
    "          'MaxMatch = ' + str(tokenized_hashtags.get(hashtag)) + '; ' + \\\n",
    "          'LogProb = ' + str(probList[0]) + '\\n' + \\\n",
    "          'Reversed MaxMatch = ' + str(tokenized_hashtags_rev.get(hashtag)) + '; ' + \\\n",
    "          'LogProb = ' + str(probList[1]) + '\\n'\n",
    "\n",
    "    return mes\n",
    "\n",
    "\n",
    "for hashtag in hashtags:\n",
    "    prob_list = prob_calc(hashtag)\n",
    "    if prob_list:\n",
    "        diff_list.append(prob_list[0] - prob_list[1]) # LogProb(MaxMatch) minus LogProb(MaxMatchReverse)\n",
    "        index_num = index_num + 1\n",
    "        print(display(hashtag, prob_list, index_num))\n",
    "    else:\n",
    "        continue\n",
    "\n"
   ]
  },
  {
   "cell_type": "code",
   "execution_count": null,
   "metadata": {
    "pycharm": {
     "is_executing": true
    }
   },
   "outputs": [],
   "source": [
    "print(np.mean(diff_list))   # the output is about 1.23, which means two methods have similar scores but MaxMatch performs\n",
    "                            # a bit better based on average difference scores"
   ]
  },
  {
   "cell_type": "markdown",
   "metadata": {},
   "source": [
    "# Text Classification (4 marks)"
   ]
  },
  {
   "cell_type": "markdown",
   "metadata": {},
   "source": [
    "### Question 5 (1.0 mark)\n",
    "\n",
    "**Instructions**: Here we are interested to do text classification, to predict the country of origin of a given tweet. The task here is to create training, development and test partitions from the preprocessed data (`x_processed`) and convert the bag-of-words representation into feature vectors.\n",
    "\n",
    "**Task**: Create training, development and test partitions with a 70%/15%/15% ratio. Remember to preserve the ratio of the classes for all your partitions. That is, say we have only 2 classes and 70% of instances are labelled class A and 30% of instances are labelled class B, then the instances in training, development and test partitions should also preserve this 7:3 ratio. You may use sklearn's builtin functions for doing data partitioning.\n",
    "\n",
    "Next, turn the bag-of-words dictionary of each tweet into a feature vector. You may also use sklearn's builtin functions for doing this.\n",
    "\n",
    "You should produce 6 objects: `x_train`, `x_dev`, `x_test` which contain the input feature vectors, and `y_train`, `y_dev` and `y_test` which contain the labels."
   ]
  },
  {
   "cell_type": "code",
   "execution_count": 93,
   "metadata": {
    "pycharm": {
     "is_executing": true
    }
   },
   "outputs": [],
   "source": [
    "from sklearn.feature_extraction import DictVectorizer\n",
    "from sklearn.model_selection import train_test_split\n",
    "import numpy as np\n",
    "\n",
    "x_train, x_dev, x_test = None, None, None\n",
    "y_train, y_dev, y_test = None, None, None\n",
    "\n",
    "v = DictVectorizer(sparse=False)\n",
    "x_vector = v.fit_transform(x_processed)\n",
    "\n",
    "x_train, x_temp, y_train, y_temp = train_test_split(x_processed, y_processed, test_size=0.3, stratify=y_processed, random_state=10)\n",
    "x_dev, x_test, y_dev, y_test = train_test_split(x_temp, y_temp, test_size=0.5, stratify=y_temp, random_state=10)\n",
    "\n",
    "x_train = v.fit_transform(x_train)\n",
    "x_dev = v.transform(x_dev)\n",
    "x_test = v.transform(x_test)\n",
    "\n"
   ]
  },
  {
   "cell_type": "markdown",
   "metadata": {},
   "source": [
    "### Question 6 (1.0 mark)\n",
    "\n",
    "**Instructions**: Now, let's build some classifiers. Here, we'll be comparing Naive Bayes and Logistic Regression. For each, you need to first find a good value for their main regularisation hyper-parameters, which you should identify using the scikit-learn docs or other resources. Use the development set you created for this tuning process; do **not** use cross-validation in the training set, or involve the test set in any way. You don't need to show all your work, but you do need to print out the **accuracy** with enough different settings to strongly suggest you have found an optimal or near-optimal choice. We should not need to look at your code to interpret the output.\n",
    "\n",
    "**Task**: Implement two text classifiers: Naive Bayes and Logistic Regression. Tune the hyper-parameters of these classifiers and print the task performance (accuracy) for different hyper-parameter settings."
   ]
  },
  {
   "cell_type": "code",
   "execution_count": 103,
   "metadata": {
    "pycharm": {
     "is_executing": true
    }
   },
   "outputs": [
    {
     "name": "stdout",
     "output_type": "stream",
     "text": [
      "Multinomial Naive Bayes:\n",
      "Based on the manual references(scikit-learn docs), the parameters can be tuned are 'fit-prior' and 'alpha'.\n",
      "'fit-prior' is set to False due to label imbalance, 'alpha' is used in smoothing and can be tuned via cross-validation.\n",
      "According to 5-fold cross validation on the developement dataset, the optimal value is 0.1. The test set accuracy is:\n",
      "0.29577464788732394\n",
      "When alpha is set to 2, the accuracy is\n",
      "0.28169014084507044\n",
      "When alpha is set to 10, the accuracy is\n",
      "0.2746478873239437\n",
      "\n",
      "Logistic Regression:\n",
      "Based on manual references, 'lbfgs' solver is supported for multinomial logistic regression and converge faster for some high-dimensional data.\n",
      "L2 regularization is carried out by default, the parameters should be tuned here is C which specify how strong the regularization is.\n",
      "c is 2.5, which is the optimal value, the test set accuracy is:\n",
      "0.2746478873239437\n",
      "c is 0.1,  the test set accuracy is:\n",
      "0.24647887323943662\n",
      "c is 10, the test set accuracy is:\n",
      "0.2746478873239437\n",
      "The variation of accuracy in the test set is subtle when choosing different c. The parameters may be reliant on the dataset.\n"
     ]
    }
   ],
   "source": [
    "from sklearn.naive_bayes import MultinomialNB\n",
    "from sklearn.linear_model import LogisticRegression\n",
    "from sklearn.model_selection import cross_val_score\n",
    "import numpy as np\n",
    "\n",
    "###\n",
    "# Your answer BEGINS HERE\n",
    "###\n",
    "\n",
    "# Using cross validation on the development dataset to find the optimal parameters\n",
    "# scores_NB = []\n",
    "# for alpha in np.arange(0.1, 10, 0.1):\n",
    "#     clf_NB_dev = MultinomialNB(fit_prior=False, alpha=alpha)\n",
    "#     scores_NB.append(cross_val_score(clf_NB_dev, x_dev, y_dev).mean())\n",
    "# index_optimal = np.argmax(scores_NB)\n",
    "# alpha_optimal = 0.1* (index_optimal + 1)\n",
    "# print(alpha_optimal)\n",
    "\n",
    "print('Multinomial Naive Bayes:')\n",
    "print('Based on the manual references(scikit-learn docs), the parameters can be tuned are \\'fit-prior\\' and \\'alpha\\'.')\n",
    "print('\\'fit-prior\\' is set to False due to label imbalance, \\'alpha\\' is used in smoothing and can be tuned via cross-validation.')\n",
    "print('According to 5-fold cross validation on the developement dataset, the optimal value is 0.1. The test set accuracy is:')\n",
    "clf_NB = MultinomialNB(fit_prior=False, alpha=0.1)\n",
    "clf_NB.fit(x_train, y_train)\n",
    "print(clf_NB.score(x_test, y_test))\n",
    "print('When alpha is set to 2, the accuracy is')\n",
    "clf_NB = MultinomialNB(fit_prior=False, alpha=2)\n",
    "clf_NB.fit(x_train, y_train)\n",
    "print(clf_NB.score(x_test, y_test))\n",
    "print('When alpha is set to 10, the accuracy is')\n",
    "clf_NB = MultinomialNB(fit_prior=False, alpha=10)\n",
    "clf_NB.fit(x_train, y_train)\n",
    "print(clf_NB.score(x_test, y_test))\n",
    "\n",
    "print('\\nLogistic Regression:')\n",
    "print('Based on manual references, \\'lbfgs\\' solver is supported for multinomial logistic regression and converge faster for some high-dimensional data.')\n",
    "print('L2 regularization is carried out by default, the parameters should be tuned here is C which specify how strong the regularization is.')\n",
    "# Using cross validation on the development dataset to find the optimal parameters\n",
    "# scores_LR = []\n",
    "# for c in np.arange(0.1, 10, 0.1):\n",
    "#     clf_LR_dev = LogisticRegression(multi_class='multinomial', penalty='l2', solver='lbfgs', C=c)\n",
    "#     scores_LR.append(cross_val_score(clf_LR_dev, x_dev, y_dev).mean())\n",
    "#     print(c)\n",
    "# index_optimal = np.argmax(scores_LR)\n",
    "# c_optimal = 0.1* (index_optimal + 1)\n",
    "# print(c_optimal) # c_optimal = 2.5\n",
    "\n",
    "print('c is 2.5, which is the optimal value, the test set accuracy is:')\n",
    "clf_LR = LogisticRegression(multi_class='multinomial', penalty='l2', solver='lbfgs', C=2.5)\n",
    "clf_LR.fit(x_train, y_train)\n",
    "print(clf_LR.score(x_test, y_test))\n",
    "print('c is 0.1,  the test set accuracy is:')\n",
    "clf_LR = LogisticRegression(multi_class='multinomial', penalty='l2', solver='lbfgs', C=0.1)\n",
    "clf_LR.fit(x_train, y_train)\n",
    "print(clf_LR.score(x_test, y_test))\n",
    "print('c is 10, the test set accuracy is:')\n",
    "clf_LR = LogisticRegression(multi_class='multinomial', penalty='l2', solver='lbfgs', C=10)\n",
    "clf_LR.fit(x_train, y_train)\n",
    "print(clf_LR.score(x_test, y_test))\n",
    "print('The variation of accuracy in the test set is subtle when choosing different c. The parameters may be reliant on the dataset.')\n",
    "    \n",
    "###\n",
    "# Your answer ENDS HERE\n",
    "###"
   ]
  },
  {
   "cell_type": "markdown",
   "metadata": {},
   "source": [
    "### Question 7 (1.0 mark)\n",
    "\n",
    "**Instructions**: Using the best settings you have found, compare the two classifiers based on performance in the test set. Print out both **accuracy** and **macro-averaged F-score** for each classifier. Be sure to label your output. You may use sklearn's inbuilt functions.\n",
    "\n",
    "**Task**: Compute test performance in terms of accuracy and macro-averaged F-score for both Naive Bayes and Logistic Regression, using their optimal hyper-parameter settings based on their development performance."
   ]
  },
  {
   "cell_type": "code",
   "execution_count": 104,
   "metadata": {
    "pycharm": {
     "is_executing": true
    }
   },
   "outputs": [
    {
     "name": "stdout",
     "output_type": "stream",
     "text": [
      "Naive Bayes:\n",
      "The accuracy is: 0.29577464788732394\n",
      "The macro-averaged F-score is: 0.3014040724641213\n",
      "\n",
      "Logistic Regression:\n",
      "The accuracy is: 0.2746478873239437\n",
      "The macro-averaged F-score is: 0.243900165976391\n"
     ]
    }
   ],
   "source": [
    "###\n",
    "# Your answer BEGINS HERE\n",
    "###\n",
    "\n",
    "from sklearn.metrics import accuracy_score\n",
    "from sklearn.metrics import f1_score\n",
    "\n",
    "clf_NB = MultinomialNB(fit_prior=False, alpha=0.1)\n",
    "clf_LR = LogisticRegression(multi_class='multinomial', penalty='l2', solver='lbfgs', C=2.5)\n",
    "\n",
    "clf_NB.fit(x_train, y_train)\n",
    "clf_LR.fit(x_train, y_train)\n",
    "\n",
    "y_pre_NB = clf_NB.predict(x_test)\n",
    "y_pre_LR = clf_LR.predict(x_test)\n",
    "\n",
    "\n",
    "print('Naive Bayes:')\n",
    "print('The accuracy is:', accuracy_score(y_test, y_pre_NB))\n",
    "print('The macro-averaged F-score is:', f1_score(y_test, y_pre_NB, average='macro'))\n",
    "\n",
    "print('\\nLogistic Regression:')\n",
    "print('The accuracy is:', accuracy_score(y_test, y_pre_LR))\n",
    "print('The macro-averaged F-score is:', f1_score(y_test, y_pre_LR, average='macro'))\n",
    "\n",
    "\n",
    "###\n",
    "# Your answer ENDS HERE\n",
    "###"
   ]
  },
  {
   "cell_type": "markdown",
   "metadata": {
    "collapsed": true
   },
   "source": [
    "### Question 8 (1.0 mark)\n",
    "\n",
    "**Instructions**: Print the most important features and their weights for each class for the two classifiers.\n",
    "\n",
    "\n",
    "**Task**: For each of the classifiers (Logistic Regression and Naive Bayes) you've built in the previous question, print out the top-20 features (words) with the highest weight for each class (countries).\n",
    "\n",
    "An example output:\n",
    "```\n",
    "Classifier = Logistic Regression\n",
    "\n",
    "Country = au\n",
    "aaa (0.999) bbb (0.888) ccc (0.777) ...\n",
    "\n",
    "Country = ca\n",
    "aaa (0.999) bbb (0.888) ccc (0.777) ...\n",
    "\n",
    "Classifier = Naive Bayes\n",
    "\n",
    "Country = au\n",
    "aaa (-1.0) bbb (-2.0) ccc (-3.0) ...\n",
    "\n",
    "Country = ca\n",
    "aaa (-1.0) bbb (-2.0) ccc (-3.0) ...\n",
    "```\n",
    "\n",
    "Have a look at the output, and see if you notice any trend/pattern in the words for each country."
   ]
  },
  {
   "cell_type": "code",
   "execution_count": 105,
   "metadata": {
    "pycharm": {
     "is_executing": true
    }
   },
   "outputs": [
    {
     "name": "stdout",
     "output_type": "stream",
     "text": [
      "Classifier = Logistic Regression\n",
      "\n",
      "Country =  au\n",
      "australia ( 1.5803831509226829 ) melbourne ( 1.3076985324416734 ) #melbourne ( 1.2564130077957747 ) @micksunnyg ( 1.2386881932528513 ) literally ( 1.2297588280451757 ) little ( 1.1584828981205144 ) brilliant ( 1.1192685194372936 ) great ( 0.9800358456939551 ) spammed ( 0.966717326957859 ) instagrams ( 0.966717326957859 ) australian ( 0.9498058992908894 ) done ( 0.9271458267819103 ) #sunrise ( 0.8645226450990786 ) forward ( 0.8413353444816353 ) victoria ( 0.8403073366136744 ) http://t.co/blhj9cMxiT ( 0.8390359699571185 ) @christorrano ( 0.8390359699571185 ) away ( 0.8365258364357832 ) geelong ( 0.8309208363720756 ) freo ( 0.8309208363720756 ) \n",
      "\n",
      "Country =  ca\n",
      "bed ( 1.2432162709035066 ) thing ( 1.2373321695079647 ) hate ( 1.2019500474755114 ) works ( 1.1043451603423735 ) follow ( 1.0173322636358906 ) let's ( 0.9841314374939042 ) next ( 0.9551372617733771 ) @aliclarke ( 0.9395089814829012 ) @cheetahbiatch ( 0.9163704184926477 ) xoxo ( 0.9163704184926477 ) kids ( 0.9029311660304685 ) awesome ( 0.8655083027412924 ) #nochillzone ( 0.8573795536488589 ) think ( 0.845364817228422 ) finally ( 0.836321365963205 ) life ( 0.8279859944291775 ) fun ( 0.8102853086258769 ) really ( 0.8002210178504701 ) presentation ( 0.7944347510361708 ) tests ( 0.7944347510361708 ) \n",
      "\n",
      "Country =  de\n",
      "love ( 1.2250774715926616 ) germany ( 1.2222706660938696 ) roseninsel ( 1.1972085071203178 ) https://t.co/DF7FiCsci3 ( 1.1972085071203178 ) jessica ( 1.0248121122892901 ) https://t.co/brKwmSVzrB ( 1.0248121122892901 ) #utopia ( 1.0248121122892901 ) gauting ( 1.0248121122892901 ) #truegrip ( 1.0248121122892901 ) hyde ( 1.0248121122892901 ) http://t.co/aiRtaqn48v ( 0.9805810879454305 ) @selenagomez ( 0.9805810879454305 ) krefeld ( 0.8890549043183318 ) posted ( 0.8851508773766386 ) photo ( 0.8851508773766386 ) #asksteven ( 0.8833850913105554 ) @stevenfhoney ( 0.8833850913105554 ) facetime ( 0.8833850913105554 ) cannot ( 0.8654545904694595 ) yay ( 0.8654545904694595 ) \n",
      "\n",
      "Country =  gb\n",
      "x ( 1.9470252692244994 ) stressed ( 1.2537858152678019 ) xx ( 1.233015751734179 ) new ( 1.1057602019758312 ) plz ( 1.0574534410325085 ) tweet ( 1.003601224491999 ) sure ( 0.9968742627337689 ) yeah ( 0.9879728910586407 ) chelsea ( 0.9840315168446422 ) many ( 0.9838164551567609 ) http://t.co/4YNiyeZB0n ( 0.9758836817678117 ) holly ( 0.9651377840300738 ) know ( 0.9633969163936829 ) modelling ( 0.9576784742420801 ) http://t.co/GIQ4dL9Jcq ( 0.9576784742420801 ) steady ( 0.9444256102932839 ) @gingersims ( 0.9444256102932839 ) always ( 0.9369199822882192 ) @ryan_hildyard ( 0.9220272089538987 ) shirt ( 0.9220272089538987 ) \n",
      "\n",
      "Country =  id\n",
      "pic ( 1.5549510893427028 ) http://t.co/jJCYSZki2Y ( 1.1760555687886316 ) selamat ( 1.1441771583908344 ) https://t.co/XxbmSbUF0r ( 1.088954908429602 ) https://t.co/eXsHMYQmsl ( 1.0473657249593007 ) pranciska ( 1.0307372356279807 ) http://t.co/wYLdhnLap4 ( 1.0307372356279807 ) rt ( 0.9890457325489558 ) http://t.co/32sZHx0TLK ( 0.9614933054782825 ) ini ( 0.9295266043279738 ) night ( 0.8849410534122185 ) mcdonald's ( 0.8366396147123257 ) donuts ( 0.8338157720010312 ) sorry ( 0.8217098141733461 ) http://t.co/qciiTw5ihf ( 0.8142810254331662 ) #eeeeeehhh ( 0.8142810254331662 ) @brunomars ( 0.8135044780587689 ) https://t.co/vS4bfdcVdC ( 0.8135044780587689 ) @billiechickcake ( 0.8042512303388125 ) nikes ( 0.8042512303388125 ) \n",
      "\n",
      "Country =  my\n",
      "thank ( 1.2242863832595852 ) selangor ( 1.2060278640756166 ) @juztakumi ( 1.1417348888907344 ) @poemporns ( 1.0682515916795419 ) http://t.co/Hf8harHgBu ( 1.0682515916795419 ) i'm ( 1.0613039704582363 ) @12_maiii ( 1.0148299634120515 ) depressing ( 0.9636762003830757 ) @markthewise ( 0.9636762003830757 ) @nabil_bil_bil ( 0.950002360486726 ) hunny ( 0.9219520751595135 ) @aqmarnaimi_ ( 0.9219520751595135 ) way ( 0.9210783478694549 ) lumpur ( 0.9205945945565197 ) kuala ( 0.9205945945565197 ) badminton ( 0.9204224970145742 ) congrats ( 0.9127776939991138 ) haha ( 0.8909227593213642 ) #dearmind ( 0.885472687329514 ) news ( 0.8806683424857852 ) \n",
      "\n",
      "Country =  ph\n",
      "@qweeesha ( 1.2142792696418134 ) :D ( 1.2068414062508717 ) manila ( 1.1765390102386561 ) space ( 1.1416727137461309 ) welcome ( 1.1393166189313566 ) @fuccyoudis2o9 ( 1.0593424995027143 ) thankyou ( 1.0593424995027143 ) baby ( 1.0593424995027143 ) playing ( 1.0593424995027143 ) http://t.co/RqeSUePR0F ( 0.9774600611508345 ) follow ( 0.9505897898590357 ) evening ( 0.9460887687347704 ) reason ( 0.9115346797524728 ) bath ( 0.8788387257458634 ) please ( 0.8752852423410592 ) im ( 0.8632320099188187 ) dis ( 0.8619825169521288 ) yet ( 0.8542486046688422 ) @jamalwade_ ( 0.8257013901055429 ) progression ( 0.8257013901055429 ) \n",
      "\n",
      "Country =  sg\n",
      "singapore ( 2.3746806944304635 ) https://t.co/PotgOiY5Rv ( 1.185372093054895 ) @ricadetiquez ( 1.1558026493203903 ) @dolly07397340 ( 1.0518565598107676 ) @moonbowcloth_id ( 1.0518565598107676 ) yepz ( 1.0518565598107676 ) https://t.co/bWENaYsyRq ( 1.0518565598107676 ) yeap ( 0.9823040348818635 ) @stylomiloteen ( 0.9823040348818635 ) hotel ( 0.9730991606166514 ) caterpillar ( 0.9700147027213094 ) https://t.co/fCnOjXrgLd ( 0.9700147027213094 ) @megaekaputri_ ( 0.9038099535721928 ) keri ( 0.8621021643105099 ) heart ( 0.8512398529774039 ) https://t.co/RwQVGOXm26 ( 0.8507753816618032 ) @thebeatles ( 0.8507753816618032 ) want ( 0.8476528526003021 ) blk ( 0.8413431578359793 ) watching ( 0.8384167312335044 ) \n",
      "\n",
      "Country =  us\n",
      "ever ( 1.3051877186682272 ) can't ( 1.2328269170646595 ) true ( 1.0937420497129247 ) weekend ( 1.0823244918236647 ) http://t.co/YkkWNMzsiR ( 1.0805577117100034 ) freakin ( 1.0728074735743394 ) chipotle ( 0.9981324854186224 ) craving ( 0.9981324854186224 ) @b_diddddy ( 0.980247416820243 ) ahhahaha ( 0.980247416820243 ) like ( 0.9623400373811863 ) @barackobama ( 0.960726477372103 ) hopefully ( 0.9319702141236254 ) beginning ( 0.8689424734687008 ) #coffeespoonart ( 0.8552785325418756 ) @thevoice_tf1 ( 0.8552785325418756 ) go ( 0.85355571158449 ) chill ( 0.8505092644118438 ) rick ( 0.8419341838277004 ) #thewalkingdead ( 0.8419341838277004 ) \n",
      "\n",
      "Country =  za\n",
      "man ( 1.8957274345519202 ) close ( 1.17123489138226 ) https://t.co/2fSyUIGBEn ( 1.168975617770965 ) god ( 1.1128766203009974 ) makes ( 1.0478626515114504 ) akubabuze ( 1.030691653882437 ) @zimtweets ( 1.030691653882437 ) goodnight ( 1.0121199610324407 ) @ferlo_mabkay ( 1.0056418584839284 ) https://t.co/UpnDF1513Q ( 1.0056418584839284 ) good ( 0.9879535517156076 ) love ( 0.9804581241955475 ) africa ( 0.9714539642815823 ) south ( 0.9714539642815823 ) feel ( 0.9435853088616729 ) drawing ( 0.9319315668942125 ) difficult ( 0.9152429030911734 ) that's ( 0.9065157355499885 ) making ( 0.8972428841480976 ) @spha_blose ( 0.8901292031617688 ) \n",
      "\n",
      "Classifier = Naive Bayes\n",
      "\n",
      "Country =  au\n",
      "i'm ( -4.788899202549926 ) melbourne ( -4.94070521541793 ) great ( -5.119753446866915 ) australia ( -5.119753446866915 ) love ( -5.3380070128869335 ) little ( -5.617591875106095 ) victoria ( -5.617591875106095 ) something ( -5.617591875106095 ) family ( -6.007056641867818 ) win ( -6.007056641867818 ) another ( -6.007056641867818 ) one ( -6.007056641867818 ) green ( -6.007056641867818 ) australian ( -6.007056641867818 ) cry ( -6.007056641867818 ) team ( -6.007056641867818 ) go ( -6.007056641867818 ) take ( -6.007056641867818 ) away ( -6.007056641867818 ) forward ( -6.007056641867818 ) \n",
      "\n",
      "Country =  ca\n",
      "i'm ( -5.010853849446268 ) got ( -5.408155646915271 ) get ( -5.408155646915271 ) thing ( -5.408155646915271 ) like ( -5.408155646915271 ) great ( -5.687740509134433 ) thanks ( -5.687740509134433 ) life ( -5.687740509134433 ) right ( -5.687740509134433 ) next ( -5.687740509134433 ) today ( -5.687740509134433 ) one ( -5.687740509134433 ) bed ( -5.687740509134433 ) u ( -5.687740509134433 ) going ( -5.687740509134433 ) pair ( -6.077205275896156 ) dun ( -6.077205275896156 ) black ( -6.077205275896156 ) big ( -6.077205275896156 ) come ( -6.077205275896156 ) \n",
      "\n",
      "Country =  de\n",
      "love ( -4.749525144858195 ) photo ( -4.967778710878213 ) posted ( -4.967778710878213 ) i'm ( -4.967778710878213 ) germany ( -5.247363573097375 ) factory ( -5.636828339859098 ) good ( -5.636828339859098 ) kernen ( -5.636828339859098 ) year ( -5.636828339859098 ) come ( -5.636828339859098 ) krefeld ( -5.636828339859098 ) week ( -5.636828339859098 ) mkmedi ( -5.636828339859098 ) im ( -5.636828339859098 ) remstal ( -5.636828339859098 ) photodesign ( -5.636828339859098 ) enough ( -5.636828339859098 ) please ( -5.636828339859098 ) miss ( -5.636828339859098 ) could ( -5.636828339859098 ) \n",
      "\n",
      "Country =  gb\n",
      "x ( -4.785376831877421 ) i'm ( -4.937182844745425 ) got ( -5.334484642214428 ) new ( -5.334484642214428 ) sure ( -5.334484642214428 ) get ( -5.334484642214428 ) know ( -5.334484642214428 ) love ( -5.61406950443359 ) yeah ( -5.61406950443359 ) beautiful ( -5.61406950443359 ) xx ( -5.61406950443359 ) plz ( -5.61406950443359 ) one ( -5.61406950443359 ) thanks ( -6.003534271195313 ) next ( -6.003534271195313 ) pic ( -6.003534271195313 ) thank ( -6.003534271195313 ) home ( -6.003534271195313 ) hey ( -6.003534271195313 ) holly ( -6.003534271195313 ) \n",
      "\n",
      "Country =  id\n",
      "pic ( -4.762775655737748 ) rt ( -5.093629900054737 ) i'm ( -5.093629900054737 ) others ( -5.311883466074756 ) posted ( -5.591468328293917 ) donuts ( -5.591468328293917 ) photo ( -5.591468328293917 ) ini ( -5.591468328293917 ) hiks ( -5.591468328293917 ) coffee ( -5.591468328293917 ) banget ( -5.98093309505564 ) one ( -5.98093309505564 ) vid ( -5.98093309505564 ) flat ( -5.98093309505564 ) shaw ( -5.98093309505564 ) senayan ( -5.98093309505564 ) hari ( -5.98093309505564 ) happy ( -5.98093309505564 ) selamat ( -5.98093309505564 ) justin ( -5.98093309505564 ) \n",
      "\n",
      "Country =  my\n",
      "i'm ( -3.7839384722944365 ) selangor ( -4.719755626518947 ) jaya ( -5.050609870835936 ) w ( -5.050609870835936 ) petaling ( -5.050609870835936 ) kuala ( -5.268863436855955 ) lumpur ( -5.268863436855955 ) thank ( -5.268863436855955 ) cendol ( -5.548448299075116 ) haha ( -5.548448299075116 ) maju ( -5.937913065836839 ) badminton ( -5.937913065836839 ) u ( -5.937913065836839 ) cheras ( -5.937913065836839 ) sweet ( -5.937913065836839 ) promise ( -5.937913065836839 ) allah ( -5.937913065836839 ) johnny ( -5.937913065836839 ) baru ( -5.937913065836839 ) know ( -5.937913065836839 ) \n",
      "\n",
      "Country =  ph\n",
      "please ( -4.743338697861246 ) follow ( -4.743338697861246 ) manila ( -4.89514471072925 ) make ( -5.292446508198253 ) sm ( -5.292446508198253 ) im ( -5.292446508198253 ) good ( -5.292446508198253 ) city ( -5.292446508198253 ) others ( -5.292446508198253 ) true ( -5.572031370417415 ) come ( -5.572031370417415 ) i'm ( -5.572031370417415 ) :D ( -5.572031370417415 ) metro ( -5.572031370417415 ) w ( -5.572031370417415 ) na ( -5.572031370417415 ) dis ( -5.572031370417415 ) @justinbieber ( -5.572031370417415 ) #hometomama ( -5.572031370417415 ) @iam3l ( -5.572031370417415 ) \n",
      "\n",
      "Country =  sg\n",
      "singapore ( -4.543032073743602 ) i'm ( -4.826607364242729 ) others ( -5.223909161711733 ) w ( -5.223909161711733 ) see ( -5.5034940239308945 ) hotel ( -5.5034940239308945 ) central ( -5.892958790692617 ) wkwkwkwk ( -5.892958790692617 ) week ( -5.892958790692617 ) day ( -5.892958790692617 ) want ( -5.892958790692617 ) dont ( -5.892958790692617 ) menggoyang ( -5.892958790692617 ) far ( -5.892958790692617 ) great ( -5.892958790692617 ) good ( -5.892958790692617 ) point ( -5.892958790692617 ) @ukhtirofie_ ( -5.892958790692617 ) come ( -5.892958790692617 ) irwan ( -5.892958790692617 ) \n",
      "\n",
      "Country =  us\n",
      "like ( -4.887757334114325 ) i'm ( -5.06680556556331 ) time ( -5.285059131583329 ) go ( -5.285059131583329 ) can't ( -5.285059131583329 ) ever ( -5.285059131583329 ) get ( -5.285059131583329 ) house ( -5.56464399380249 ) tonight ( -5.56464399380249 ) happy ( -5.56464399380249 ) hopefully ( -5.56464399380249 ) u ( -5.56464399380249 ) true ( -5.56464399380249 ) birthday ( -5.56464399380249 ) love ( -5.56464399380249 ) hope ( -5.56464399380249 ) one ( -5.56464399380249 ) christmas ( -5.954108760564213 ) even ( -5.954108760564213 ) we're ( -5.954108760564213 ) \n",
      "\n",
      "Country =  za\n"
     ]
    },
    {
     "name": "stdout",
     "output_type": "stream",
     "text": [
      "happy ( -4.975262904343565 ) love ( -4.975262904343565 ) like ( -5.15431113579255 ) u ( -5.15431113579255 ) god ( -5.372564701812569 ) got ( -5.372564701812569 ) way ( -5.372564701812569 ) day ( -5.372564701812569 ) man ( -5.372564701812569 ) good ( -5.372564701812569 ) that's ( -5.65214956403173 ) b ( -5.65214956403173 ) next ( -5.65214956403173 ) everything ( -5.65214956403173 ) life ( -5.65214956403173 ) time ( -5.65214956403173 ) one ( -5.65214956403173 ) better ( -5.65214956403173 ) today ( -5.65214956403173 ) africa ( -5.65214956403173 ) \n"
     ]
    }
   ],
   "source": [
    "###\n",
    "# Your answer BEGINS HERE\n",
    "###\n",
    "\n",
    "\n",
    "metrics_NB = clf_NB.feature_log_prob_\n",
    "metrics_LR = clf_LR.coef_\n",
    "\n",
    "\n",
    "\n",
    "features_NB = []\n",
    "features_LR = []\n",
    "\n",
    "for label_index in range(0, len(clf_NB.classes_)):\n",
    "    index_NB = np.argsort(-metrics_NB[label_index])[0:20]\n",
    "    temp = []\n",
    "    for index in index_NB:\n",
    "        temp.append([v.feature_names_[index], metrics_NB[label_index][index]])\n",
    "    features_NB.append(temp)\n",
    "    \n",
    "for label_index in range(0, len(clf_LR.classes_)):\n",
    "    index_LR = np.argsort(-metrics_LR[label_index])[0:20]\n",
    "    temp = []\n",
    "    for index in index_LR:\n",
    "        temp.append([v.feature_names_[index], metrics_LR[label_index][index]])\n",
    "    features_LR.append(temp)\n",
    "    \n",
    "    \n",
    "print('Classifier = Logistic Regression')\n",
    "for label_index in range(0, len(clf_LR.classes_)):\n",
    "    print('\\nCountry = ', clf_LR.classes_[label_index])\n",
    "    for item in features_LR[label_index]:\n",
    "        print(item[0], '(', item[1], ') ', end='')\n",
    "    print()\n",
    "\n",
    "print('\\nClassifier = Naive Bayes')\n",
    "for label_index in range(0, len(clf_NB.classes_)):\n",
    "    print('\\nCountry = ', clf_NB.classes_[label_index])\n",
    "    for item in features_NB[label_index]:\n",
    "        print(item[0], '(', item[1], ') ', end='')\n",
    "    print()     \n",
    "        \n",
    "\n",
    "###\n",
    "# Your answer ENDS HERE\n",
    "###"
   ]
  }
 ],
 "metadata": {
  "kernelspec": {
   "display_name": "Python 3",
   "language": "python",
   "name": "python3"
  },
  "language_info": {
   "codemirror_mode": {
    "name": "ipython",
    "version": 3
   },
   "file_extension": ".py",
   "mimetype": "text/x-python",
   "name": "python",
   "nbconvert_exporter": "python",
   "pygments_lexer": "ipython3",
   "version": "3.9.2"
  },
  "pycharm": {
   "stem_cell": {
    "cell_type": "raw",
    "metadata": {
     "collapsed": false
    },
    "source": []
   }
  }
 },
 "nbformat": 4,
 "nbformat_minor": 2
}
