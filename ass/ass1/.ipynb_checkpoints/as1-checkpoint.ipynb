{
 "cells": [
  {
   "cell_type": "markdown",
   "metadata": {},
   "source": [
    "# Assignment 1: Preprocessing and Text Classification"
   ]
  },
  {
   "cell_type": "markdown",
   "metadata": {},
   "source": [
    "Student Name: Jiexin Liu\n",
    "\n",
    "Student ID: 1044804"
   ]
  },
  {
   "cell_type": "markdown",
   "metadata": {},
   "source": [
    "# General Info\n",
    "\n",
    "<b>Due date</b>: Sunday, 28 March 2021 5pm\n",
    "\n",
    "<b>Submission method</b>: Canvas submission\n",
    "\n",
    "<b>Submission materials</b>: completed copy of this iPython notebook\n",
    "\n",
    "<b>Late submissions</b>: -10% per day (both week and weekend days counted)\n",
    "\n",
    "<b>Marks</b>: 9% of mark for class (with 8% on correctness + 1% on quality and efficiency of your code)\n",
    "\n",
    "<b>Materials</b>: See [Using Jupyter Notebook and Python page](https://canvas.lms.unimelb.edu.au/courses/121115/pages/using-jupyter-notebook-and-python?module_item_id=2681264) on Canvas (under Modules>Resources) for information on the basic setup required for this class, including an iPython notebook viewer and the python packages NLTK, Numpy, Scipy, Matplotlib, Scikit-Learn, and Gensim. We recommend installing all the data for NLTK, since you will need various parts of it to complete this assignment. You can also use any Python built-in packages, but do not use any other 3rd party packages (the packages listed above are all fine to use); if your iPython notebook doesn't run on the marker's machine, you will lose marks. <b> You should use Python 3</b>.  \n",
    "\n",
    "To familiarize yourself with NLTK, here is a free online book:  Steven Bird, Ewan Klein, and Edward Loper (2009). <a href=http://nltk.org/book>Natural Language Processing with Python</a>. O'Reilly Media Inc. You may also consult the <a href=https://www.nltk.org/api/nltk.html>NLTK API</a>.\n",
    "\n",
    "<b>Evaluation</b>: Your iPython notebook should run end-to-end without any errors in a reasonable amount of time, and you must follow all instructions provided below, including specific implementation requirements and instructions for what needs to be printed (please avoid printing output we don't ask for). You should edit the sections below where requested, but leave the rest of the code as is. You should leave the output from running your code in the iPython notebook you submit, to assist with marking. The amount each question is worth is explicitly given. \n",
    "\n",
    "You will be marked not only on the correctness of your methods, but also the quality and efficency of your code: in particular, you should be careful to use Python built-in functions and operators when appropriate and pick descriptive variable names that adhere to <a href=\"https://www.python.org/dev/peps/pep-0008/\">Python style requirements</a>. If you think it might be unclear what you are doing, you should comment your code to help the marker make sense of it.\n",
    "\n",
    "<b>Updates</b>: Any major changes to the assignment will be announced via Canvas. Minor changes and clarifications will be announced on the discussion board; we recommend you check it regularly.\n",
    "\n",
    "<b>Academic misconduct</b>: For most people, collaboration will form a natural part of the undertaking of this homework, and we encourge you to discuss it in general terms with other students. However, this ultimately is still an individual task, and so reuse of code or other instances of clear influence will be considered cheating. We will be checking submissions for originality and will invoke the University’s <a href=\"http://academichonesty.unimelb.edu.au/policy.html\">Academic Misconduct policy</a> where inappropriate levels of collusion or plagiarism are deemed to have taken place."
   ]
  },
  {
   "cell_type": "markdown",
   "metadata": {},
   "source": [
    "# Overview\n",
    "\n",
    "In this homework, you'll be working with a collection tweets. The task is to predict the geolocation (country) where the tweet comes from. This homework involves writing code to preprocess data and perform text classification."
   ]
  },
  {
   "cell_type": "markdown",
   "metadata": {},
   "source": [
    "# Preprocessing (4 marks)"
   ]
  },
  {
   "cell_type": "markdown",
   "metadata": {},
   "source": [
    "**Instructions**: Download the data (as1-data.json) from Canvas and put it in the same directory as this iPython notebook. Run the code below to load the json data. This produces two objects, `x` and `y`, which contains a list of  tweets and corresponding country labels (it uses the standard [2 letter country code](https://www.iban.com/country-codes)) respectively. **No implementation is needed.**"
   ]
  },
  {
   "cell_type": "code",
   "execution_count": 6,
   "metadata": {
    "pycharm": {
     "is_executing": false
    }
   },
   "outputs": [
    {
     "name": "stdout",
     "output_type": "stream",
     "text": [
      "Number of tweets = 943\n",
      "Number of labels = 943\n",
      "\n",
      "Samples of data:\n",
      "Country = us \tTweet = @Addictd2Success thx u for following\n",
      "Country = us \tTweet = Let's just say, if I were to ever switch teams, Khalesi would be top of the list. #girlcrush\n",
      "Country = ph \tTweet = Taemin jonghyun!!! Your birits make me go~ http://t.co/le8z3dntlA\n",
      "Country = id \tTweet = depart.senior 👻 rapat perdana (with Nyayu, Anita, and 8 others at Ruang Aescullap FK Unsri Madang) — https://t.co/swRALlNkrQ\n",
      "Country = ph \tTweet = Done with internship with this pretty little lady!  (@ Metropolitan Medical Center w/ 3 others) [pic]: http://t.co/1qH61R1t5r\n",
      "Country = gb \tTweet = Wow just Boruc's clanger! Haha Sunday League stuff that, Giroud couldn't believe his luck! #clown\n",
      "Country = my \tTweet = I'm at Sushi Zanmai (Petaling Jaya, Selangor) w/ 5 others http://t.co/bcNobykZ\n",
      "Country = us \tTweet = Mega Fest!!!! Its going down🙏🙌  @BishopJakes\n",
      "Country = gb \tTweet = @EllexxxPharrell wow love the pic babe xx\n",
      "Country = us \tTweet = You have no clue how much you hurt me\n"
     ]
    }
   ],
   "source": [
    "import json\n",
    "\n",
    "x = []\n",
    "y = []\n",
    "data = json.load(open(\"as1-data.json\"))\n",
    "for k, v in data.items():\n",
    "    x.append(k)\n",
    "    y.append(v)\n",
    "    \n",
    "print(\"Number of tweets =\", len(x))\n",
    "print(\"Number of labels =\", len(y))\n",
    "print(\"\\nSamples of data:\")\n",
    "for i in range(10):\n",
    "    print(\"Country =\", y[i], \"\\tTweet =\", x[i])\n",
    "\n",
    "assert(len(x) == 943)\n",
    "assert(len(y) == 943)"
   ]
  },
  {
   "cell_type": "markdown",
   "metadata": {},
   "source": [
    "### Question 1 (1.0 mark)\n",
    "\n",
    "**Instructions**: Next we need to preprocess the collected tweets to create a bag-of-words representation. The preprocessing steps required here are: (1) tokenize each tweet into individual word tokens (using NLTK `TweetTokenizer`); (2) lowercase all words; (3) remove any word that does not contain any English alphabets (e.g. {_hello_, _#okay_, _abc123_} would be kept, but not {_123_, _!!_}) and (4) remove stopwords (based on NLTK `stopwords`). An empty tweet (after preprocessing) and its country label should be **excluded** from the output (`x_processed` and `y_processed`).\n",
    "\n",
    "**Task**: Complete the `preprocess_data(data, labels)` function. The function takes **a list of tweets** and **a corresponding list of country labels** as input, and returns **two lists**. For the first list, each element is a bag-of-words representation of a tweet. For the second list, each element is a corresponding country label. Note that while we do not need to preprocess the country labels (`y`), we need to have a new output list (`y_processed`) because some tweets maybe removed after the preprocessing (due to having an empty set of bag-of-words).\n",
    "\n",
    "**Check**: Use the assertion statements in <b>\"For your testing\"</b> below for the expected output."
   ]
  },
  {
   "cell_type": "code",
   "execution_count": 9,
   "metadata": {
    "pycharm": {
     "is_executing": false
    }
   },
   "outputs": [
    {
     "ename": "ModuleNotFoundError",
     "evalue": "No module named 'nltk'",
     "output_type": "error",
     "traceback": [
      "\u001b[1;31m---------------------------------------------------------------------------\u001b[0m",
      "\u001b[1;31mModuleNotFoundError\u001b[0m                       Traceback (most recent call last)",
      "\u001b[1;32m<ipython-input-9-8eeef99a00be>\u001b[0m in \u001b[0;36m<module>\u001b[1;34m\u001b[0m\n\u001b[1;32m----> 1\u001b[1;33m \u001b[1;32mimport\u001b[0m \u001b[0mnltk\u001b[0m\u001b[1;33m\u001b[0m\u001b[1;33m\u001b[0m\u001b[0m\n\u001b[0m\u001b[0;32m      2\u001b[0m \u001b[1;32mfrom\u001b[0m \u001b[0mnltk\u001b[0m\u001b[1;33m.\u001b[0m\u001b[0mtokenize\u001b[0m \u001b[1;32mimport\u001b[0m \u001b[0mTweetTokenizer\u001b[0m\u001b[1;33m\u001b[0m\u001b[1;33m\u001b[0m\u001b[0m\n\u001b[0;32m      3\u001b[0m \u001b[1;32mfrom\u001b[0m \u001b[0mnltk\u001b[0m\u001b[1;33m.\u001b[0m\u001b[0mcorpus\u001b[0m \u001b[1;32mimport\u001b[0m \u001b[0mstopwords\u001b[0m\u001b[1;33m\u001b[0m\u001b[1;33m\u001b[0m\u001b[0m\n\u001b[0;32m      4\u001b[0m \u001b[1;32mimport\u001b[0m \u001b[0mre\u001b[0m\u001b[1;33m\u001b[0m\u001b[1;33m\u001b[0m\u001b[0m\n\u001b[0;32m      5\u001b[0m \u001b[1;33m\u001b[0m\u001b[0m\n",
      "\u001b[1;31mModuleNotFoundError\u001b[0m: No module named 'nltk'"
     ]
    }
   ],
   "source": [
    "import nltk\n",
    "from nltk.tokenize import TweetTokenizer\n",
    "from nltk.corpus import stopwords\n",
    "import re\n",
    "\n",
    "tt = TweetTokenizer(preserve_case=False)  # lowercase all words\n",
    "stopwords = set(stopwords.words('english')) #note: stopwords are all in lowercase\n",
    "\n",
    "def preprocess_data(data, labels):\n",
    "    \n",
    "    ###\n",
    "    # Your answer BEGINS HERE\n",
    "    ###\n",
    "    \n",
    "    ## Tokenize each tweet\n",
    "    token_list = [tt.tokenize(tweet) for tweet in data]\n",
    "    \n",
    "    ## Only keep the work tokens containing letters and remove stopwords\n",
    "    label_removal_index = []\n",
    "    BOW_list = []\n",
    "    \n",
    "    for index, tweet_tokens in enumerate(token_list):\n",
    "        tokens_dict = {}\n",
    "        tweet_tokens = [token for token in tweet_tokens \n",
    "                               if (re.search('[A-Za-z]', token) \n",
    "                                   and token not in stopwords )]\n",
    "        if len(tweet_tokens):\n",
    "            for token in tweet_tokens:\n",
    "                if token not in tokens_dict.keys():\n",
    "                    tokens_dict.update({token: 1})\n",
    "                else:\n",
    "                    tokens_dict.update({token: tokens_dict.get(token) + 1})\n",
    "            BOW_list.append(tokens_dict)\n",
    "        else:\n",
    "            label_removal_index.append(index)\n",
    "    \n",
    "    labels_processed = [label for index, label in enumerate(labels) if index not in label_removal_index]\n",
    "    \n",
    "    return BOW_list, labels_processed\n",
    "    # Your answer ENDS HERE\n",
    "    ###\n",
    "\n",
    "x_processed, y_processed = preprocess_data(x, y)\n",
    "\n",
    "print(\"Number of preprocessed tweets =\", len(x_processed))\n",
    "print(\"Number of preprocessed labels =\", len(y_processed))\n",
    "print(\"\\nSamples of preprocessed data:\")\n",
    "for i in range(10):\n",
    "    print(\"Country =\", y_processed[i], \"\\tTweet =\", x_processed[i])"
   ]
  },
  {
   "cell_type": "markdown",
   "metadata": {},
   "source": [
    "**For your testing**:"
   ]
  },
  {
   "cell_type": "code",
   "execution_count": null,
   "metadata": {
    "pycharm": {
     "is_executing": false
    }
   },
   "outputs": [],
   "source": [
    "assert(len(x_processed) == len(y_processed))\n",
    "assert(len(x_processed) > 800)"
   ]
  },
  {
   "cell_type": "markdown",
   "metadata": {},
   "source": [
    "**Instructions**: Hashtags (i.e. topic tags which start with #) pose an interesting tokenisation problem because they often include multiple words written without spaces or capitalization. Run the code below to collect all unique hashtags in the preprocessed data. **No implementation is needed.**\n",
    "\n"
   ]
  },
  {
   "cell_type": "code",
   "execution_count": null,
   "metadata": {
    "pycharm": {
     "is_executing": false
    }
   },
   "outputs": [],
   "source": [
    "def get_all_hashtags(data):\n",
    "    hashtags = set([])\n",
    "    for d in data:\n",
    "        for word, frequency in d.items():\n",
    "            if word.startswith(\"#\") and len(word) > 1:\n",
    "                hashtags.add(word)\n",
    "    return hashtags\n",
    "\n",
    "hashtags = get_all_hashtags(x_processed)\n",
    "print(\"Number of hashtags =\", len(hashtags))\n",
    "print(sorted(hashtags))"
   ]
  },
  {
   "cell_type": "markdown",
   "metadata": {},
   "source": [
    "### Question 2 (1.0 mark)\n",
    "\n",
    "**Instructions**: Our task here to tokenize the hashtags, by implementing the **MaxMatch algorithm** discussed in class.\n",
    "\n",
    "NLTK has a list of words that you can use for matching, see starter code below (`words`). Be careful about efficiency with respect to doing word lookups. One extra challenge you have to deal with is that the provided list of words (`words`) includes only lemmas: your MaxMatch algorithm should match inflected forms by converting them into lemmas using the NLTK lemmatizer before matching (provided by the function `lemmatize(word)`). Note that the list of words (`words`) is the only source that you'll use for matching (i.e. you do not need to find  other external word lists). If you are unable to make any longer match, your code should default to matching a single letter.\n",
    "\n",
    "For example, given \"#newrecord\", the algorithm should produce: \\[\"#\", \"new\", \"record\"\\].\n",
    "\n",
    "**Task**: Complete the `tokenize_hashtags(hashtags)` function by implementing the MaxMatch algorithm. The function takes as input **a set of hashtags**, and returns **a dictionary** where key=\"hashtag\" and value=\"a list of tokenised words\".\n",
    "\n",
    "**Check**: Use the assertion statements in <b>\"For your testing\"</b> below for the expected output."
   ]
  },
  {
   "cell_type": "code",
   "execution_count": null,
   "metadata": {
    "pycharm": {
     "is_executing": false
    }
   },
   "outputs": [],
   "source": [
    "from nltk.corpus import wordnet\n",
    "\n",
    "lemmatizer = nltk.stem.wordnet.WordNetLemmatizer()\n",
    "words = set(nltk.corpus.words.words()) #a list of words provided by NLTK\n",
    "words = set([ word.lower() for word in words ]) #lowercase all the words for better matching\n",
    "\n",
    "def lemmatize(word):\n",
    "    lemma = lemmatizer.lemmatize(word,'v')\n",
    "    if lemma == word:\n",
    "        lemma = lemmatizer.lemmatize(word,'n')\n",
    "    return lemma\n",
    "\n",
    "# The program will run 5 seconds or so\n",
    "def tokenize_hashtags(hashtags):\n",
    "    tokenized_hashtags = {}\n",
    "\n",
    "    for hashtag in hashtags:\n",
    "        i = 0\n",
    "        tokens = []\n",
    "        hashtag_text = hashtag[1:]\n",
    "        hashtag_text = lemmatize(hashtag_text)\n",
    "        matched_words = []\n",
    "        non_words = ''\n",
    "        wordCheckFlag = False\n",
    "\n",
    "        for word in words:\n",
    "            if word in hashtag_text:\n",
    "                matched_words.append(word)\n",
    "\n",
    "        while i < len(hashtag_text):\n",
    "            maxMatchedWord = \"\"\n",
    "            for j in range(i, len(hashtag_text)):\n",
    "                tempWord = hashtag_text[i:j + 1]\n",
    "                if tempWord in matched_words and len(tempWord) > len(maxMatchedWord):\n",
    "                    maxMatchedWord = tempWord\n",
    "            if len(maxMatchedWord):\n",
    "                \n",
    "                if wordCheckFlag:\n",
    "                    tokens.append(non_words)\n",
    "                    non_words = ''\n",
    "                    wordCheckFlag = False\n",
    "\n",
    "                i = i + len(maxMatchedWord)\n",
    "                tokens.append(maxMatchedWord)\n",
    "            else:\n",
    "                wordCheckFlag = True\n",
    "                non_words = non_words + hashtag_text[i]\n",
    "                if i == len(hashtag_text) - 1:\n",
    "                    tokens.append(non_words)\n",
    "                i = i + 1\n",
    "\n",
    "\n",
    "        tokens.insert(0, '#')\n",
    "        tokenized_hashtags.update({hashtag: tokens})\n",
    "\n",
    "    return tokenized_hashtags\n",
    "\n",
    "\n",
    "\n",
    "#tokenise hashtags with MaxMatch\n",
    "tokenized_hashtags = tokenize_hashtags(hashtags)\n",
    "\n",
    "#print results\n",
    "for k, v in sorted(tokenized_hashtags.items())[-30:]:\n",
    "    print(k, v)"
   ]
  },
  {
   "cell_type": "markdown",
   "metadata": {},
   "source": [
    "**For your testing:**"
   ]
  },
  {
   "cell_type": "code",
   "execution_count": null,
   "metadata": {
    "pycharm": {
     "is_executing": false
    }
   },
   "outputs": [],
   "source": [
    "assert(len(tokenized_hashtags) == len(hashtags))\n",
    "assert(tokenized_hashtags[\"#newrecord\"] == [\"#\", \"new\", \"record\"])"
   ]
  },
  {
   "cell_type": "markdown",
   "metadata": {},
   "source": [
    "### Question 3 (1.0 mark)\n",
    "\n",
    "**Instructions**: Our next task is to tokenize the hashtags again, but this time using a **reversed version of the MaxMatch algorithm**, where matching begins at the end of the hashtag and progresses backwards (e.g. for <i>#helloworld</i>, we would process it right to left, starting from the last character <i>d</i>). Just like before, you should use the provided word list (`words`) for word matching.\n",
    "\n",
    "**Task**: Complete the `tokenize_hashtags_rev(hashtags)` function by the MaxMatch algorithm. The function takes as input **a set of hashtags**, and returns **a dictionary** where key=\"hashtag\" and value=\"a list of tokenised words\".\n",
    "\n",
    "**Check**: Use the assertion statements in <b>\"For your testing\"</b> below for the expected output."
   ]
  },
  {
   "cell_type": "code",
   "execution_count": null,
   "metadata": {
    "pycharm": {
     "is_executing": false
    }
   },
   "outputs": [],
   "source": [
    "def tokenize_hashtags_rev(hashtags):\n",
    "    tokenized_hashtags = {}\n",
    "\n",
    "    for hashtag in hashtags:\n",
    "        tokens = []\n",
    "        hashtag_text = hashtag[1:]\n",
    "        hashtag_text = lemmatize(hashtag_text)\n",
    "        matched_words = []\n",
    "        non_words = ''\n",
    "        wordCheckFlag = False\n",
    "        i = len(hashtag_text) - 1\n",
    "\n",
    "        for word in words:\n",
    "            if word in hashtag_text:\n",
    "                matched_words.append(word)\n",
    "\n",
    "        while i >= 0:\n",
    "            maxMatchedWord = \"\"\n",
    "            for j in range(i, -1, -1):\n",
    "\n",
    "                tempWord = hashtag_text[j: i + 1]\n",
    "\n",
    "                if tempWord in matched_words and len(tempWord) > len(maxMatchedWord):\n",
    "                    maxMatchedWord = tempWord\n",
    "\n",
    "            if len(maxMatchedWord):\n",
    "\n",
    "                if wordCheckFlag:\n",
    "                    non_words = non_words[::-1]\n",
    "                    tokens.append(non_words)\n",
    "                    non_words = ''\n",
    "                    wordCheckFlag = False\n",
    "\n",
    "                i = i - len(maxMatchedWord)\n",
    "                tokens.append(maxMatchedWord)\n",
    "            else:\n",
    "                wordCheckFlag = True\n",
    "                non_words = non_words + hashtag_text[i]\n",
    "                if i == 0:\n",
    "                    non_words = non_words[::-1]\n",
    "                    tokens.append(non_words)\n",
    "                i = i - 1\n",
    "                \n",
    "        tokens = tokens[::-1]\n",
    "        tokens.insert(0, '#')\n",
    "        tokenized_hashtags.update({hashtag: tokens})\n",
    "\n",
    "    return tokenized_hashtags\n",
    "\n",
    "    \n",
    "#tokenise hashtags with the reversed version of MaxMatch\n",
    "tokenized_hashtags_rev = tokenize_hashtags_rev(hashtags)\n",
    "\n",
    "#print results\n",
    "for k, v in sorted(tokenized_hashtags_rev.items())[-30:]:\n",
    "    print(k, v)"
   ]
  },
  {
   "cell_type": "markdown",
   "metadata": {},
   "source": [
    "**For your testing:**"
   ]
  },
  {
   "cell_type": "code",
   "execution_count": null,
   "metadata": {
    "pycharm": {
     "is_executing": false
    }
   },
   "outputs": [],
   "source": [
    "assert(len(tokenized_hashtags_rev) == len(hashtags))\n",
    "assert(tokenized_hashtags_rev[\"#newrecord\"] == [\"#\", \"new\", \"record\"])"
   ]
  },
  {
   "cell_type": "markdown",
   "metadata": {},
   "source": [
    "### Question 4 (1.0 mark)\n",
    "\n",
    "**Instructions**: The two versions of MaxMatch will produce different results for some of the hashtags. For a hastag that has different results, our task here is to use a **unigram language model** (lecture 3) to score them to see which is better. Recall that in a unigram language model we compute P(<i>#</i>, <i>hello</i>, <i>world</i> = P(<i>#</i>)\\*P(<i>hellow</i>)\\*P(<i>world</i>).\n",
    "\n",
    "You should: (1) use the NLTK's Brown corpus (`brown_words`) for collecting word frequencies (note: the words are already tokenised so no further tokenisation is needed); (2) lowercase all words in the corpus; (3) use add-one smoothing when computing the unigram probabilities; and (4) work in the log space to prevent numerical underflow.\n",
    "\n",
    "**Task**: Build a unigram language model with add-one smoothing using the word counts from the Brown corpus. Iterate through the hashtags, and for each hashtag where MaxMatch and reversed MaxMatch produce different results, print the following: (1) the hashtag; (2) the results produced by MaxMatch and reversed MaxMatch; and (3) the log probability of each result as given by the unigram language model. Note: you **do not** need to print the hashtags where MaxMatch and reversed MaxMatch produce the same results.\n",
    "\n",
    "An example output:\n",
    "```\n",
    "1. #abcd\n",
    "MaxMatch = [#, a, bc, d]; LogProb = -2.3\n",
    "Reversed MaxMatch = [#, a, b, cd]; LogProb = -3.5\n",
    "\n",
    "2. #efgh\n",
    "MaxMatch = [#, ef, g, h]; LogProb = -4.2\n",
    "Reversed MaxMatch = [#, e, fgh]; LogProb = -3.1\n",
    "\n",
    "```\n",
    "\n",
    "Have a look at the output, and see if the sequences with better language model scores (i.e. less negative) are generally more coherent."
   ]
  },
  {
   "cell_type": "code",
   "execution_count": null,
   "metadata": {
    "pycharm": {
     "is_executing": false
    }
   },
   "outputs": [],
   "source": [
    "from nltk.corpus import brown\n",
    "from nltk.probability import FreqDist\n",
    "import math\n",
    "import numpy as np\n",
    "\n",
    "#words from brown corpus\n",
    "brown_words = brown.words()\n",
    "vocab_size = len(set(brown_words)) # the size of the vocabulary of the brown corpus\n",
    "words_size = len(brown_words)\n",
    "\n",
    "fdist = FreqDist(word.lower() for word in brown_words)  # lowercase all words in the corpus and calculate counts\n",
    "index_num = 0\n",
    "diff_list = []\n",
    "\n",
    "\n",
    "def prob_calc(hashtag):\n",
    "    prob_maxMatch = 1\n",
    "    prob_maxMatchRev = 1\n",
    "\n",
    "    tokens_maxMatch = tokenized_hashtags.get(hashtag)\n",
    "    tokens_maxMatchRev = tokenized_hashtags_rev.get(hashtag)\n",
    "\n",
    "    for token in tokens_maxMatch:\n",
    "        prob_maxMatch = prob_maxMatch * (fdist[token] + 1) / (words_size + vocab_size) # add-one smoothing\n",
    "\n",
    "    for token in tokens_maxMatchRev:\n",
    "        prob_maxMatchRev = prob_maxMatchRev * (fdist[token] + 1) / (words_size + vocab_size) # add-one smoothing\n",
    "\n",
    "    logProb_maxMatch = round(math.log(prob_maxMatch), 1) # log transformation and keep one digit\n",
    "    logProb_maxMatchRev = round(math.log(prob_maxMatchRev), 1)\n",
    "    prob_maxMatch = 1\n",
    "    prob_maxMatchRev = 1\n",
    "\n",
    "    if logProb_maxMatch != logProb_maxMatchRev:\n",
    "        return [logProb_maxMatch, logProb_maxMatchRev]\n",
    "    else:\n",
    "        return\n",
    "\n",
    "\n",
    "def display(hashtag, probList, index):\n",
    "    mes = str(index) + '. ' + hashtag + '\\n' + \\\n",
    "          'MaxMatch = ' + str(tokenized_hashtags.get(hashtag)) + '; ' + \\\n",
    "          'LogProb = ' + str(probList[0]) + '\\n' + \\\n",
    "          'Reversed MaxMatch = ' + str(tokenized_hashtags_rev.get(hashtag)) + '; ' + \\\n",
    "          'LogProb = ' + str(probList[1]) + '\\n'\n",
    "\n",
    "    return mes\n",
    "\n",
    "\n",
    "for hashtag in hashtags:\n",
    "    prob_list = prob_calc(hashtag)\n",
    "    if prob_list:\n",
    "        diff_list.append(prob_list[0] - prob_list[1]) # LogProb(MaxMatch) minus LogProb(MaxMatchReverse)\n",
    "        index_num = index_num + 1\n",
    "        print(display(hashtag, prob_list, index_num))\n",
    "    else:\n",
    "        continue\n",
    "\n"
   ]
  },
  {
   "cell_type": "code",
   "execution_count": null,
   "metadata": {
    "pycharm": {
     "is_executing": false
    }
   },
   "outputs": [],
   "source": [
    "print(np.mean(diff_list))   # the output is about 1.23, which means two methods have similar scores but MaxMatch performs\n",
    "                            # a bit better based on average difference scores"
   ]
  },
  {
   "cell_type": "markdown",
   "metadata": {},
   "source": [
    "# Text Classification (4 marks)"
   ]
  },
  {
   "cell_type": "markdown",
   "metadata": {},
   "source": [
    "### Question 5 (1.0 mark)\n",
    "\n",
    "**Instructions**: Here we are interested to do text classification, to predict the country of origin of a given tweet. The task here is to create training, development and test partitions from the preprocessed data (`x_processed`) and convert the bag-of-words representation into feature vectors.\n",
    "\n",
    "**Task**: Create training, development and test partitions with a 70%/15%/15% ratio. Remember to preserve the ratio of the classes for all your partitions. That is, say we have only 2 classes and 70% of instances are labelled class A and 30% of instances are labelled class B, then the instances in training, development and test partitions should also preserve this 7:3 ratio. You may use sklearn's builtin functions for doing data partitioning.\n",
    "\n",
    "Next, turn the bag-of-words dictionary of each tweet into a feature vector. You may also use sklearn's builtin functions for doing this.\n",
    "\n",
    "You should produce 6 objects: `x_train`, `x_dev`, `x_test` which contain the input feature vectors, and `y_train`, `y_dev` and `y_test` which contain the labels."
   ]
  },
  {
   "cell_type": "code",
   "execution_count": null,
   "metadata": {
    "pycharm": {
     "is_executing": false
    }
   },
   "outputs": [],
   "source": [
    "from sklearn.feature_extraction import DictVectorizer\n",
    "from sklearn.model_selection import train_test_split\n",
    "import numpy as np\n",
    "\n",
    "x_train, x_dev, x_test = None, None, None\n",
    "y_train, y_dev, y_test = None, None, None\n",
    "\n",
    "v = DictVectorizer(sparse=False)\n",
    "x_vector = v.fit_transform(x_processed)\n",
    "\n",
    "x_train, x_temp, y_train, y_temp = train_test_split(x_processed, y_processed, test_size=0.3, stratify=y_processed, random_state=10)\n",
    "x_dev, x_test, y_dev, y_test = train_test_split(x_temp, y_temp, test_size=0.5, stratify=y_temp, random_state=10)\n",
    "\n",
    "x_train = v.fit_transform(x_train)\n",
    "x_dev = v.transform(x_dev)\n",
    "x_test = v.transform(x_test)\n",
    "\n"
   ]
  },
  {
   "cell_type": "markdown",
   "metadata": {},
   "source": [
    "### Question 6 (1.0 mark)\n",
    "\n",
    "**Instructions**: Now, let's build some classifiers. Here, we'll be comparing Naive Bayes and Logistic Regression. For each, you need to first find a good value for their main regularisation hyper-parameters, which you should identify using the scikit-learn docs or other resources. Use the development set you created for this tuning process; do **not** use cross-validation in the training set, or involve the test set in any way. You don't need to show all your work, but you do need to print out the **accuracy** with enough different settings to strongly suggest you have found an optimal or near-optimal choice. We should not need to look at your code to interpret the output.\n",
    "\n",
    "**Task**: Implement two text classifiers: Naive Bayes and Logistic Regression. Tune the hyper-parameters of these classifiers and print the task performance (accuracy) for different hyper-parameter settings."
   ]
  },
  {
   "cell_type": "code",
   "execution_count": null,
   "metadata": {
    "pycharm": {
     "is_executing": false
    }
   },
   "outputs": [],
   "source": [
    "from sklearn.naive_bayes import MultinomialNB\n",
    "from sklearn.linear_model import LogisticRegression\n",
    "from sklearn.model_selection import cross_val_score\n",
    "import numpy as np\n",
    "\n",
    "###\n",
    "# Your answer BEGINS HERE\n",
    "###\n",
    "\n",
    "# Using cross validation on the development dataset to find the optimal parameters\n",
    "# scores_NB = []\n",
    "# for alpha in np.arange(0.1, 10, 0.1):\n",
    "#     clf_NB_dev = MultinomialNB(fit_prior=False, alpha=alpha)\n",
    "#     scores_NB.append(cross_val_score(clf_NB_dev, x_dev, y_dev).mean())\n",
    "# index_optimal = np.argmax(scores_NB)\n",
    "# alpha_optimal = 0.1* (index_optimal + 1)\n",
    "# print(alpha_optimal)\n",
    "\n",
    "print('Multinomial Naive Bayes:')\n",
    "print('Based on the manual references(scikit-learn docs), the parameters can be tuned are \\'fit-prior\\' and \\'alpha\\'.')\n",
    "print('\\'fit-prior\\' is set to False due to label imbalance, \\'alpha\\' is used in smoothing and can be tuned via cross-validation.')\n",
    "print('According to 5-fold cross validation on the developement dataset, the optimal value is 0.1. The test set accuracy is:')\n",
    "clf_NB = MultinomialNB(fit_prior=False, alpha=0.1)\n",
    "clf_NB.fit(x_train, y_train)\n",
    "print(clf_NB.score(x_test, y_test))\n",
    "print('When alpha is set to 2, the accuracy is')\n",
    "clf_NB = MultinomialNB(fit_prior=False, alpha=2)\n",
    "clf_NB.fit(x_train, y_train)\n",
    "print(clf_NB.score(x_test, y_test))\n",
    "print('When alpha is set to 10, the accuracy is')\n",
    "clf_NB = MultinomialNB(fit_prior=False, alpha=10)\n",
    "clf_NB.fit(x_train, y_train)\n",
    "print(clf_NB.score(x_test, y_test))\n",
    "\n",
    "print('\\nLogistic Regression:')\n",
    "print('Based on manual references, \\'lbfgs\\' solver is supported for multinomial logistic regression and converge faster for some high-dimensional data.')\n",
    "print('L2 regularization is carried out by default, the parameters should be tuned here is C which specify how strong the regularization is.')\n",
    "# Using cross validation on the development dataset to find the optimal parameters\n",
    "# scores_LR = []\n",
    "# for c in np.arange(0.1, 10, 0.1):\n",
    "#     clf_LR_dev = LogisticRegression(multi_class='multinomial', penalty='l2', solver='lbfgs', C=c)\n",
    "#     scores_LR.append(cross_val_score(clf_LR_dev, x_dev, y_dev).mean())\n",
    "#     print(c)\n",
    "# index_optimal = np.argmax(scores_LR)\n",
    "# c_optimal = 0.1* (index_optimal + 1)\n",
    "# print(c_optimal) # c_optimal = 2.5\n",
    "\n",
    "print('c is 2.5, which is the optimal value, the test set accuracy is:')\n",
    "clf_LR = LogisticRegression(multi_class='multinomial', penalty='l2', solver='lbfgs', C=2.5)\n",
    "clf_LR.fit(x_train, y_train)\n",
    "print(clf_LR.score(x_test, y_test))\n",
    "print('c is 0.1,  the test set accuracy is:')\n",
    "clf_LR = LogisticRegression(multi_class='multinomial', penalty='l2', solver='lbfgs', C=0.1)\n",
    "clf_LR.fit(x_train, y_train)\n",
    "print(clf_LR.score(x_test, y_test))\n",
    "print('c is 10, the test set accuracy is:')\n",
    "clf_LR = LogisticRegression(multi_class='multinomial', penalty='l2', solver='lbfgs', C=10)\n",
    "clf_LR.fit(x_train, y_train)\n",
    "print(clf_LR.score(x_test, y_test))\n",
    "print('The variation of accuracy in the test set is subtle when choosing different c. The parameters may be reliant on the dataset.')\n",
    "    \n",
    "###\n",
    "# Your answer ENDS HERE\n",
    "###"
   ]
  },
  {
   "cell_type": "markdown",
   "metadata": {},
   "source": [
    "### Question 7 (1.0 mark)\n",
    "\n",
    "**Instructions**: Using the best settings you have found, compare the two classifiers based on performance in the test set. Print out both **accuracy** and **macro-averaged F-score** for each classifier. Be sure to label your output. You may use sklearn's inbuilt functions.\n",
    "\n",
    "**Task**: Compute test performance in terms of accuracy and macro-averaged F-score for both Naive Bayes and Logistic Regression, using their optimal hyper-parameter settings based on their development performance."
   ]
  },
  {
   "cell_type": "code",
   "execution_count": null,
   "metadata": {
    "pycharm": {
     "is_executing": false
    }
   },
   "outputs": [],
   "source": [
    "###\n",
    "# Your answer BEGINS HERE\n",
    "###\n",
    "\n",
    "from sklearn.metrics import accuracy_score\n",
    "from sklearn.metrics import f1_score\n",
    "\n",
    "clf_NB = MultinomialNB(fit_prior=False, alpha=0.1)\n",
    "clf_LR = LogisticRegression(multi_class='multinomial', penalty='l2', solver='lbfgs', C=2.5)\n",
    "\n",
    "clf_NB.fit(x_train, y_train)\n",
    "clf_LR.fit(x_train, y_train)\n",
    "\n",
    "y_pre_NB = clf_NB.predict(x_test)\n",
    "y_pre_LR = clf_LR.predict(x_test)\n",
    "\n",
    "\n",
    "print('Naive Bayes:')\n",
    "print('The accuracy is:', accuracy_score(y_test, y_pre_NB))\n",
    "print('The macro-averaged F-score is:', f1_score(y_test, y_pre_NB, average='macro'))\n",
    "\n",
    "print('\\nLogistic Regression:')\n",
    "print('The accuracy is:', accuracy_score(y_test, y_pre_LR))\n",
    "print('The macro-averaged F-score is:', f1_score(y_test, y_pre_LR, average='macro'))\n",
    "\n",
    "\n",
    "###\n",
    "# Your answer ENDS HERE\n",
    "###"
   ]
  },
  {
   "cell_type": "markdown",
   "metadata": {
    "collapsed": true
   },
   "source": [
    "### Question 8 (1.0 mark)\n",
    "\n",
    "**Instructions**: Print the most important features and their weights for each class for the two classifiers.\n",
    "\n",
    "\n",
    "**Task**: For each of the classifiers (Logistic Regression and Naive Bayes) you've built in the previous question, print out the top-20 features (words) with the highest weight for each class (countries).\n",
    "\n",
    "An example output:\n",
    "```\n",
    "Classifier = Logistic Regression\n",
    "\n",
    "Country = au\n",
    "aaa (0.999) bbb (0.888) ccc (0.777) ...\n",
    "\n",
    "Country = ca\n",
    "aaa (0.999) bbb (0.888) ccc (0.777) ...\n",
    "\n",
    "Classifier = Naive Bayes\n",
    "\n",
    "Country = au\n",
    "aaa (-1.0) bbb (-2.0) ccc (-3.0) ...\n",
    "\n",
    "Country = ca\n",
    "aaa (-1.0) bbb (-2.0) ccc (-3.0) ...\n",
    "```\n",
    "\n",
    "Have a look at the output, and see if you notice any trend/pattern in the words for each country."
   ]
  },
  {
   "cell_type": "code",
   "execution_count": null,
   "metadata": {
    "pycharm": {
     "is_executing": false
    }
   },
   "outputs": [],
   "source": [
    "###\n",
    "# Your answer BEGINS HERE\n",
    "###\n",
    "\n",
    "\n",
    "metrics_NB = clf_NB.feature_log_prob_\n",
    "metrics_LR = clf_LR.coef_\n",
    "\n",
    "\n",
    "\n",
    "features_NB = []\n",
    "features_LR = []\n",
    "\n",
    "for label_index in range(0, len(clf_NB.classes_)):\n",
    "    index_NB = np.argsort(-metrics_NB[label_index])[0:20]\n",
    "    temp = []\n",
    "    for index in index_NB:\n",
    "        temp.append([v.feature_names_[index], metrics_NB[label_index][index]])\n",
    "    features_NB.append(temp)\n",
    "    \n",
    "for label_index in range(0, len(clf_LR.classes_)):\n",
    "    index_LR = np.argsort(-metrics_LR[label_index])[0:20]\n",
    "    temp = []\n",
    "    for index in index_LR:\n",
    "        temp.append([v.feature_names_[index], metrics_LR[label_index][index]])\n",
    "    features_LR.append(temp)\n",
    "    \n",
    "    \n",
    "print('Classifier = Logistic Regression')\n",
    "for label_index in range(0, len(clf_LR.classes_)):\n",
    "    print('\\nCountry = ', clf_LR.classes_[label_index])\n",
    "    for item in features_LR[label_index]:\n",
    "        print(item[0], '(', item[1], ') ', end='')\n",
    "    print()\n",
    "\n",
    "print('\\nClassifier = Naive Bayes')\n",
    "for label_index in range(0, len(clf_NB.classes_)):\n",
    "    print('\\nCountry = ', clf_NB.classes_[label_index])\n",
    "    for item in features_NB[label_index]:\n",
    "        print(item[0], '(', item[1], ') ', end='')\n",
    "    print()     \n",
    "        \n",
    "\n",
    "###\n",
    "# Your answer ENDS HERE\n",
    "###"
   ]
  }
 ],
 "metadata": {
  "kernelspec": {
   "display_name": "Python 3",
   "language": "python",
   "name": "python3"
  },
  "language_info": {
   "codemirror_mode": {
    "name": "ipython",
    "version": 3
   },
   "file_extension": ".py",
   "mimetype": "text/x-python",
   "name": "python",
   "nbconvert_exporter": "python",
   "pygments_lexer": "ipython3",
   "version": "3.8.1"
  },
  "pycharm": {
   "stem_cell": {
    "cell_type": "raw",
    "metadata": {
     "collapsed": false
    },
    "source": []
   }
  }
 },
 "nbformat": 4,
 "nbformat_minor": 2
}
