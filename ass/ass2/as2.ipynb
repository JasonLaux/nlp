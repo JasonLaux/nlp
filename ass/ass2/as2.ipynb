{
 "cells": [
  {
   "cell_type": "markdown",
   "metadata": {},
   "source": [
    "# Assignment 2: Language Modelling in Hangman"
   ]
  },
  {
   "cell_type": "markdown",
   "metadata": {
    "collapsed": true
   },
   "source": [
    "Student Name: Jiexin Liu\n",
    "\n",
    "Student ID: 1044804"
   ]
  },
  {
   "cell_type": "markdown",
   "metadata": {},
   "source": [
    "## General info"
   ]
  },
  {
   "cell_type": "markdown",
   "metadata": {},
   "source": [
    "<b>Due date</b>: Tuesday, 6 April 2021 5pm\n",
    "\n",
    "<b>Submission method</b>: Canvas submission\n",
    "\n",
    "<b>Submission materials</b>: completed copy of this iPython notebook\n",
    "\n",
    "<b>Late submissions</b>: -10% per day (both week and weekend days counted)\n",
    "\n",
    "<b>Marks</b>: 8% of mark for class (with 7% on correctness + 1% on quality and efficiency of your code)\n",
    "\n",
    "<b>Materials</b>: See [Using Jupyter Notebook and Python page](https://canvas.lms.unimelb.edu.au/courses/121115/pages/using-jupyter-notebook-and-python?module_item_id=2681264) on Canvas (under Modules>Resources) for information on the basic setup required for this class, including an iPython notebook viewer and the python packages NLTK, Numpy, Scipy, Matplotlib, Scikit-Learn, and Gensim. We recommend installing all the data for NLTK, since you will need various parts of it to complete this assignment. You can also use any Python built-in packages, but do not use any other 3rd party packages (the packages listed above are all fine to use); if your iPython notebook doesn't run on the marker's machine, you will lose marks. <b> You should use Python 3</b>.  \n",
    "\n",
    "To familiarize yourself with NLTK, here is a free online book:  Steven Bird, Ewan Klein, and Edward Loper (2009). <a href=http://nltk.org/book>Natural Language Processing with Python</a>. O'Reilly Media Inc. You may also consult the <a href=https://www.nltk.org/api/nltk.html>NLTK API</a>.\n",
    "\n",
    "<b>Evaluation</b>: Your iPython notebook should run end-to-end without any errors in a reasonable amount of time, and you must follow all instructions provided below, including specific implementation requirements and instructions for what needs to be printed (please avoid printing output we don't ask for). You should edit the sections below where requested, but leave the rest of the code as is. You should leave the output from running your code in the iPython notebook you submit, to assist with marking. The amount each question is worth is explicitly given. \n",
    "\n",
    "You will be marked not only on the correctness of your methods, but also the quality and efficency of your code: in particular, you should be careful to use Python built-in functions and operators when appropriate and pick descriptive variable names that adhere to <a href=\"https://www.python.org/dev/peps/pep-0008/\">Python style requirements</a>. If you think it might be unclear what you are doing, you should comment your code to help the marker make sense of it.\n",
    "\n",
    "<b>Updates</b>: Any major changes to the assignment will be announced via Canvas. Minor changes and clarifications will be announced on the discussion board; we recommend you check it regularly.\n",
    "\n",
    "<b>Academic misconduct</b>: For most people, collaboration will form a natural part of the undertaking of this homework, and we encourge you to discuss it in general terms with other students. However, this ultimately is still an individual task, and so reuse of code or other instances of clear influence will be considered cheating. We will be checking submissions for originality and will invoke the University’s <a href=\"http://academichonesty.unimelb.edu.au/policy.html\">Academic Misconduct policy</a> where inappropriate levels of collusion or plagiarism are deemed to have taken place."
   ]
  },
  {
   "cell_type": "markdown",
   "metadata": {},
   "source": [
    "# Overview\n",
    "\n",
    "In this homework, you'll be creating an 'artificial intelligence' player for the classic Hangman word guessing game. You will need to implement several different automatic strategies based on character-level n-gram language models. Your objective is to create an automatic player which makes the fewest mistakes."
   ]
  },
  {
   "cell_type": "markdown",
   "metadata": {},
   "source": [
    "# The Hangman Game (7 marks)"
   ]
  },
  {
   "cell_type": "markdown",
   "metadata": {},
   "source": [
    "**Instructions**: The <a href=\"https://en.wikipedia.org/wiki/Hangman_(game)\">Hangman game</a> is a simple game whereby one person thinks of a word, which they keep secret from their opponent, who tries to guess the word one character at a time. The game ends when the opponent makes more than a fixed number of incorrect guesses, or they figure out the secret word before then (in which case they *win*). \n",
    "\n",
    "Here's a simple version of the game. **No implementation is needed.**"
   ]
  },
  {
   "cell_type": "code",
   "execution_count": null,
   "metadata": {
    "pycharm": {
     "is_executing": false
    }
   },
   "outputs": [],
   "source": [
    "def hangman(secret_word, guesser, max_mistakes=8, verbose=True, **guesser_args):\n",
    "    \"\"\"\n",
    "        This function plays the hangman game with the provided guesser and returns the number of incorrect guesses. \n",
    "        \n",
    "        secret_word: a string of lower-case alphabetic characters, i.e., the answer to the game\n",
    "        guesser: a function which guesses the next character at each stage in the game\n",
    "            The function takes a:\n",
    "                mask: what is known of the word, as a string with _ denoting an unknown character\n",
    "                guessed: the set of characters which already been guessed in the game\n",
    "                guesser_args: additional (optional) keyword arguments, i.e., name=value\n",
    "        max_mistakes: limit on length of game, in terms of number of allowed mistakes\n",
    "        verbose: silent or verbose diagnostic prints\n",
    "        guesser_args: keyword arguments to pass directly to the guesser function\n",
    "    \"\"\"\n",
    "    secret_word = secret_word.lower()\n",
    "    mask = ['_'] * len(secret_word)\n",
    "    guessed = set()\n",
    "    if verbose:\n",
    "        print(\"Starting hangman game. Target is\", ' '.join(mask), 'length', len(secret_word))\n",
    "    \n",
    "    mistakes = 0\n",
    "    while mistakes < max_mistakes:\n",
    "        if verbose:\n",
    "            print(\"You have\", (max_mistakes-mistakes), \"attempts remaining.\")\n",
    "        guess = guesser(mask, guessed, **guesser_args)\n",
    "\n",
    "        if verbose:\n",
    "            print('Guess is', guess)\n",
    "        if guess in guessed:\n",
    "            if verbose:\n",
    "                print('Already guessed this before.')\n",
    "            mistakes += 1\n",
    "        else:\n",
    "            guessed.add(guess)\n",
    "            if guess in secret_word and len(guess) == 1:\n",
    "                for i, c in enumerate(secret_word):\n",
    "                    if c == guess:\n",
    "                        mask[i] = c\n",
    "                if verbose:\n",
    "                    print('Good guess:', ' '.join(mask))\n",
    "            else:\n",
    "                if len(guess) != 1:\n",
    "                    print('Please guess with only 1 character.')\n",
    "                if verbose:\n",
    "                    print('Sorry, try again.')\n",
    "                mistakes += 1\n",
    "                \n",
    "        if '_' not in mask:\n",
    "            if verbose:\n",
    "                print('Congratulations, you won.')\n",
    "            return mistakes\n",
    "        \n",
    "    if verbose:\n",
    "        print('Out of guesses. The word was', secret_word)    \n",
    "    return mistakes"
   ]
  },
  {
   "cell_type": "markdown",
   "metadata": {},
   "source": [
    "Here is a human guesser allowing interactive play."
   ]
  },
  {
   "cell_type": "code",
   "execution_count": null,
   "metadata": {
    "pycharm": {
     "is_executing": false
    }
   },
   "outputs": [],
   "source": [
    "def human(mask, guessed, **kwargs):\n",
    "    \"\"\"\n",
    "    This is a simple function for manual play.\n",
    "    \"\"\"\n",
    "    print('\\nEnter your guess:')\n",
    "    return input().lower().strip()"
   ]
  },
  {
   "cell_type": "markdown",
   "metadata": {},
   "source": [
    "If you want to play hangman interactively, please set `interactive` to `True`. When submitting your solution, set to `False` so we can automatically run the whole notebook using `Run All`."
   ]
  },
  {
   "cell_type": "code",
   "execution_count": null,
   "metadata": {
    "pycharm": {
     "is_executing": false
    }
   },
   "outputs": [],
   "source": [
    "interactive = True"
   ]
  },
  {
   "cell_type": "markdown",
   "metadata": {},
   "source": [
    "<b>For your testing:</b>\n",
    "\n",
    "You can play the game interactively using the following command:"
   ]
  },
  {
   "cell_type": "code",
   "execution_count": null,
   "metadata": {
    "pycharm": {
     "is_executing": false
    }
   },
   "outputs": [],
   "source": [
    "if interactive:\n",
    "    hangman('whatever', human, 8, True)"
   ]
  },
  {
   "cell_type": "markdown",
   "metadata": {
    "collapsed": true
   },
   "source": [
    "### Question 1 (1.0 mark)\n",
    "\n",
    "**Instructions**: We will use the words in NLTK's Brown corpus for training an artificial intelligence guessing algorithm, and for evaluating the quality of the algorithm.\n",
    "\n",
    "Your first task is to compute the number of **unique word types** occurring in the Brown corpus, using `nltk.corpus.brown` and the `words` method, and select only words that are **entirely comprised of alphabetic characters**. You should also **lowercase the words**. Finally, randomly shuffle (`numpy.random.shuffle`) this collection of word types, and split them into disjoint training and testing sets. The test set should contain 1000 word types, and the rest should be in the  training set. Note that we are intentionally making the hangman game hard, as the AI will need to cope with test words that it has not seen before, hence it will need to learn generalisable patterns of characters to make reasonable predictions.\n",
    "\n",
    "**Task**: Collect all unique word types from the Brown corpus, and produce `training_set` and `test_set`, 2 lists that contain 2 disjointed sets of words. Both `training_set` and `test_set` should be a python `list` (as initialised in the code). `test_set` must contain exactly 1000 word types.\n",
    "\n",
    "**Check**: Use the assertion statements in <b>\"For your testing\"</b> below for the expected output."
   ]
  },
  {
   "cell_type": "code",
   "execution_count": null,
   "metadata": {
    "pycharm": {
     "is_executing": true
    }
   },
   "outputs": [],
   "source": [
    "from nltk.corpus import brown\n",
    "import numpy as np\n",
    "import re\n",
    "import string\n",
    "\n",
    "letter_lowercase = list(string.ascii_lowercase)\n",
    "\n",
    "np.random.seed(1)\n",
    "\n",
    "# training_set stores the rest word types for training\n",
    "training_set = []\n",
    "# test_set stores 1000 word types for testing\n",
    "test_set = []\n",
    "\n",
    "\n",
    "###\n",
    "# Your answer BEGINS HERE\n",
    "###\n",
    "\n",
    "words = list(set([word.lower() for word in brown.words() if not re.search(r'[^a-zA-Z]', word)]))\n",
    "\n",
    "np.random.shuffle(words)\n",
    "\n",
    "test_set += words[0:1000]\n",
    "training_set += words[1000:]\n",
    "\n",
    "\n",
    "\n",
    "###\n",
    "# Your answer ENDS HERE\n",
    "###\n",
    "\n",
    "print(\"Number of word types in test =\", len(test_set))\n",
    "print(\"Number of word types in train =\", len(training_set))"
   ]
  },
  {
   "cell_type": "markdown",
   "metadata": {},
   "source": [
    "<b>For your testing:</b>"
   ]
  },
  {
   "cell_type": "code",
   "execution_count": null,
   "metadata": {
    "pycharm": {
     "is_executing": true
    }
   },
   "outputs": [],
   "source": [
    "assert(len(training_set) > 35000 and len(training_set) < 45000)\n",
    "assert(len(test_set) == 1000)"
   ]
  },
  {
   "cell_type": "markdown",
   "metadata": {},
   "source": [
    "**Play the game**:\n",
    "\n",
    "Let's see how good you are at this game! Try to guess a random word from the test set. It is surprisingly difficult (and addictive)! Don't forget to set `interactive = True`."
   ]
  },
  {
   "cell_type": "code",
   "execution_count": null,
   "metadata": {
    "pycharm": {
     "is_executing": true
    }
   },
   "outputs": [],
   "source": [
    "#play hangman using random words from test set\n",
    "if interactive:\n",
    "    hangman(np.random.choice(test_set), human, 8, True)"
   ]
  },
  {
   "cell_type": "markdown",
   "metadata": {},
   "source": [
    "### Question 2 (1.0 mark)\n",
    "\n",
    "**Instructions**: To set a baseline, your first AI attempt will be a trivial **random method**. For this you should implement a guessing method, similar to the `human` method above, i.e., using the same input arguments and returning a character. Your method should randomly choose a character from the range `a ... z` after excluding the characters that have already been guessed in the current game (all subsequent AI approaches should also exclude previous guesses).\n",
    "\n",
    "To help you measure the performance of this (and later) guesser, a `test_guesser` method that takes a guesser and measures the average number of incorrect guesses made over all the words in the `test_set` is provided to you. \n",
    "\n",
    "**Task**: Complete the `random_guesser` method. It should return a random character from the English alphabets.\n",
    "\n",
    "**Check**: Use the assertion statements in <b>\"For your testing\"</b> below for the expected output."
   ]
  },
  {
   "cell_type": "code",
   "execution_count": null,
   "metadata": {
    "pycharm": {
     "is_executing": true
    }
   },
   "outputs": [],
   "source": [
    "def test_guesser(guesser, test=test_set):\n",
    "    \"\"\"\n",
    "        This function takes a guesser and measures the average number of incorrect guesses made over all the words in the test_set. \n",
    "    \"\"\"\n",
    "    total = 0\n",
    "    for word in test:\n",
    "        total += hangman(word, guesser, 26, False)\n",
    "    return total / float(len(test))"
   ]
  },
  {
   "cell_type": "code",
   "execution_count": null,
   "metadata": {
    "pycharm": {
     "is_executing": true
    }
   },
   "outputs": [],
   "source": [
    "def random_guesser(mask, guessed, **kwargs):\n",
    "    \n",
    "    ###\n",
    "    # Your answer BEGINS HERE\n",
    "    ###\n",
    "        \n",
    "    return np.random.choice([char for char in letter_lowercase if char not in list(guessed)])\n",
    "    \n",
    "\n",
    "    ###\n",
    "    # Your answer ENDS HERE\n",
    "    ###\n",
    "\n",
    "random_word = np.random.choice(test_set)\n",
    "print(\"Guessing word =\", random_word)\n",
    "print(\"Number of mistakes made by the random guesser =\", hangman(random_word, random_guesser, 26, False))\n",
    "\n",
    "result = test_guesser(random_guesser)\n",
    "print(\"\\nTesting the random guesser using every word in test set\")\n",
    "print(\"Average number of incorrect guesses: \", result)"
   ]
  },
  {
   "cell_type": "markdown",
   "metadata": {},
   "source": [
    "<b>For your testing:</b>"
   ]
  },
  {
   "cell_type": "code",
   "execution_count": null,
   "metadata": {
    "pycharm": {
     "is_executing": true
    }
   },
   "outputs": [],
   "source": [
    "assert(result > 10 and result < 20)"
   ]
  },
  {
   "cell_type": "markdown",
   "metadata": {},
   "source": [
    "### Question 3 (1.0 mark)\n",
    "\n",
    "**Instructions:** As your first real AI, you should train a **unigram language model** over the training set. This requires you to find the frequencies of characters over all training words. Using this model, you should write a guesser that returns the character with the highest probability. Remember to exclude already guessed characters. \n",
    "\n",
    "**Task**: Collect the frequencies of characters and store them in `unigram_counts` (use the first answer space). Complete the `unigram_guesser` method. Note that it takes `unigram_counts` as an additional argument (use the second answer space).\n",
    "\n",
    "**Check**: Use the assertion statements in <b>\"For your testing\"</b> below for the expected output."
   ]
  },
  {
   "cell_type": "code",
   "execution_count": null,
   "metadata": {
    "pycharm": {
     "is_executing": true
    }
   },
   "outputs": [],
   "source": [
    "unigram_counts = None\n",
    "\n",
    "###\n",
    "# Your answer BEGINS HERE\n",
    "###\n",
    "\n",
    "training_set_length = len(training_set)\n",
    "\n",
    "unigram_counts = {}\n",
    "\n",
    "for letter in letter_lowercase:\n",
    "    unigram_counts.update({letter: 0})\n",
    "\n",
    "for word in training_set:\n",
    "\n",
    "    chars = list(set(word))\n",
    "\n",
    "    for char in chars:\n",
    "        unigram_counts[char] += 1\n",
    "\n",
    "\n",
    "###\n",
    "# Your answer ENDS HERE\n",
    "###\n",
    "\n",
    "def unigram_guesser(mask, guessed, unigram_counts=unigram_counts):\n",
    "\n",
    "    ###\n",
    "    # Your answer BEGINS HERE\n",
    "    ###\n",
    "    \n",
    "    sorted_char = [item[0] for item in sorted(unigram_counts.items(), key=lambda item: item[1], reverse=True)]\n",
    "\n",
    "    for char in sorted_char:\n",
    "        if char not in guessed:\n",
    "            return char\n",
    "\n",
    "    ###\n",
    "    # Your answer ENDS HERE\n",
    "    ###\n",
    "\n",
    "\n",
    "result = test_guesser(unigram_guesser)\n",
    "print(\"Testing the unigram guesser using every word in test set\")\n",
    "print(\"Average number of incorrect guesses: \", result)"
   ]
  },
  {
   "cell_type": "markdown",
   "metadata": {},
   "source": [
    "<b>For your testing:</b>"
   ]
  },
  {
   "cell_type": "code",
   "execution_count": null,
   "metadata": {
    "pycharm": {
     "is_executing": true
    }
   },
   "outputs": [],
   "source": [
    "assert(result > 5 and result < 15)"
   ]
  },
  {
   "cell_type": "markdown",
   "metadata": {},
   "source": [
    "### Question 4 (1.0 mark)\n",
    "\n",
    "**Instructions:** The length of the secret word is an important clue that we might exploit. Different lengths tend to have different distributions over characters, e.g., short words are less likely to have suffixes or prefixes. You should incorporate this idea by conditioning the unigram model on the length of the secret word, i.e.,  having a **different unigram model for each length**. You will need to be a little careful at test time, to be robust to the situation that you encounter a word length that you didn't see in training. In such a case, your method should behave like the previous `unigram_guesser` in Question 3 (i.e., it guesses characters based on unigram frequencies, unconditioned by the word length).\n",
    "\n",
    "**Task**: Collect the frequencies of characters conditioned on the word length and store them in `unigram_counts_by_length` (use the first answer space). Complete the `unigram_length_guesser` method (use the second answer space).\n",
    "\n",
    "**Check**: Use the assertion statements in <b>\"For your testing\"</b> below for the expected output."
   ]
  },
  {
   "cell_type": "code",
   "execution_count": null,
   "metadata": {
    "pycharm": {
     "is_executing": true
    },
    "scrolled": false
   },
   "outputs": [],
   "source": [
    "unigram_counts_by_length = None\n",
    "\n",
    "###\n",
    "# Your answer BEGINS HERE\n",
    "###\n",
    "\n",
    "# {\n",
    "#   '1': {'a': 1, 'b': 2, ..., 'z': 10},\n",
    "#   '2': {'a': 5, 'b': 2, ..., 'z': 10},\n",
    "#   ...\n",
    "#   '10': {'a': 1, 'b': 2, ..., 'z': 10}\n",
    "#   ...\n",
    "#\n",
    "#}\n",
    "# key is the word length\n",
    "unigram_counts_by_length = {}\n",
    "\n",
    "for word in training_set:\n",
    "\n",
    "    chars = list(set(word))\n",
    "    word_length = len(word)\n",
    "    letter_dict = {}\n",
    "\n",
    "    for letter in letter_lowercase:\n",
    "        letter_dict.update({letter: 0})\n",
    "\n",
    "    if str(word_length) not in unigram_counts_by_length.keys():\n",
    "        unigram_counts_by_length.update({str(word_length): letter_dict})\n",
    "\n",
    "    for char in chars:\n",
    "        unigram_counts_by_length[str(word_length)][char] += 1\n",
    "\n",
    "###\n",
    "# Your answer ENDS HERE\n",
    "###\n",
    "\n",
    "def unigram_length_guesser(mask, guessed, unigram_counts_by_length=unigram_counts_by_length, unigram_counts=unigram_counts):\n",
    "    ###\n",
    "    # Your answer BEGINS HERE\n",
    "    ###\n",
    "    \n",
    "    sorted_char_global = [item[0] for item in sorted(unigram_counts.items(), key=lambda item: item[1], reverse=True)]\n",
    "\n",
    "    guess_word_length = len(mask)\n",
    "\n",
    "    if str(guess_word_length) in unigram_counts_by_length.keys():\n",
    "        for char in [pair[0] for pair in\n",
    "                     sorted(unigram_counts_by_length.get(str(guess_word_length)).items(), key=lambda item: item[1],\n",
    "                            reverse=True)]:\n",
    "            if char not in guessed:\n",
    "                return char\n",
    "    else:\n",
    "        for char in sorted_char_global:\n",
    "            if char not in guessed:\n",
    "                return char\n",
    "    \n",
    "    ###\n",
    "    # Your answer ENDS HERE\n",
    "    ###\n",
    "\n",
    "result = test_guesser(unigram_length_guesser)\n",
    "print(\"Testing the length-conditioned unigram guesser using every word in test set\")\n",
    "print(\"Average number of incorrect guesses: \", result)"
   ]
  },
  {
   "cell_type": "markdown",
   "metadata": {},
   "source": [
    "<b>For your testing:</b>"
   ]
  },
  {
   "cell_type": "code",
   "execution_count": null,
   "metadata": {
    "pycharm": {
     "is_executing": true
    }
   },
   "outputs": [],
   "source": [
    "assert(result > 5 and result < 15)"
   ]
  },
  {
   "cell_type": "markdown",
   "metadata": {},
   "source": [
    "### Question 5 (1.0 mark)\n",
    "\n",
    "**Instructions:** Now for the next challenge, you'll build a **bigram language model** over characters. The order of characters is obviously important, yet this wasn't incorporated in any of the above models. Knowing that the word has the sequence `n _ s s` is a pretty strong clue that the missing character might be `e`. Similarly the distribution over characters that start or end a word are highly biased (e.g., toward common prefixes and suffixes, like *un-*, *-ed* and *-ly*).\n",
    "\n",
    "The task here is to develop a bigram language model over characters, and train it over the training words. Remember to be careful when handling the start of each word properly, e.g., by padding with a special starting symbol such as `$`. Do we also need a special ending symbol? That's for you to decide.\n",
    "\n",
    "Your bigram guesser should apply your language model to each blank position in the secret word by using its left context character. For example, in the partial word `e _ c _ b _ _` we know the left context for the first three blanks, but have no known left context for the last blank. In the case for the last blank, you should revert to using a unigram language model (since there's no context for us to use the bigram model). You should sum up the probability distribution (over all alphabets from <i>a</i> to <i>z</i>) for the 4 blanks, and select the alphabet with the highest probability that hasn't been guessed.\n",
    "\n",
    "**Task**: Collect frequency counts that are necessary for building a bigram language model and store them in bigram_counts; feel free to add new objects if needed (use the first answer space). Complete the `bigram_guesser` method (use the second answer space). Note that the method currently only has one additional argument (`bigram_counts`), but you are free to add additional arguments."
   ]
  },
  {
   "cell_type": "code",
   "execution_count": null,
   "metadata": {
    "pycharm": {
     "is_executing": true
    }
   },
   "outputs": [],
   "source": [
    "bigram_counts = {}\n",
    "\n",
    "###\n",
    "# Your answer BEGINS HERE\n",
    "###\n",
    "letter_dict = {}  # Keep total counts for letters\n",
    "for letter in letter_lowercase:\n",
    "    letter_dict.update({letter: 0})\n",
    "\n",
    "for letter in letter_lowercase:\n",
    "    bigram_counts.update({letter: letter_dict.copy()})\n",
    "\n",
    "bigram_counts.update({'$': letter_dict.copy()})\n",
    "\n",
    "# Train bigrams model and store the total counts in each category, like this:\n",
    "# {\n",
    "#   'a': {'a': 1, 'b': 2, ..., 'z': 10},\n",
    "#   'b': {'a': 5, 'b': 2, ..., 'z': 10},\n",
    "#   ...\n",
    "#   '$': {'a': 1, 'b': 2, ..., 'z': 10}\n",
    "#\n",
    "#}\n",
    "# So 'ba' exists 5 times in this case\n",
    "#\n",
    "for word in training_set:\n",
    "\n",
    "    word_list = list(word)\n",
    "    word_list.insert(0, '$')\n",
    "\n",
    "    for index, char in enumerate(word_list):\n",
    "\n",
    "        if index == len(word_list) - 1:\n",
    "            break\n",
    "        else:\n",
    "            bigram_counts[char][word_list[index + 1]] += 1\n",
    "###\n",
    "# Your answer ENDS HERE\n",
    "###\n",
    "    \n",
    "\n",
    "def bigram_guesser(mask, guessed, bigram_counts=bigram_counts, unigram_counts_by_length=unigram_counts_by_length): # add extra arguments if needed\n",
    "    ###\n",
    "    # Your answer BEGINS HERE\n",
    "    ###\n",
    "    word_length = len(mask)\n",
    "    mask_list = mask.copy()\n",
    "    mask_list.insert(0, '$')\n",
    "    letter_counts = letter_dict.copy()\n",
    "    flag = False\n",
    "\n",
    "    for index in range(len(mask_list)):\n",
    "\n",
    "        if index == len(mask_list) - 1:\n",
    "            break\n",
    "        elif mask_list[index] == '_' and mask_list[index + 1] == '_': # no context\n",
    "            flag = True\n",
    "        elif mask_list[index] != '_' and mask_list[index + 1] == '_':\n",
    "            for char in letter_counts:\n",
    "                letter_counts[char] += bigram_counts.get(mask_list[index]).get(char)\n",
    "        else:\n",
    "            continue\n",
    "\n",
    "    if flag:  #  if no context, use unigrams model\n",
    "        for char in letter_counts:\n",
    "            letter_counts[char] += unigram_counts_by_length.get(str(word_length)).get(char)\n",
    "\n",
    "    sorted_letter_counts = [char_guess[0] for char_guess in\n",
    "                            sorted(letter_counts.items(), key=lambda item: item[1], reverse=True)\n",
    "                            if char_guess[0] not in guessed]\n",
    "\n",
    "    return sorted_letter_counts[0]\n",
    "    ###\n",
    "    # Your answer ENDS HERE\n",
    "    ###\n",
    "\n",
    "\n",
    "\n",
    "result = test_guesser(bigram_guesser)\n",
    "print(\"Testing the bigram guesser using every word in test set\")\n",
    "print(\"Average number of incorrect guesses: \", result)"
   ]
  },
  {
   "cell_type": "markdown",
   "metadata": {},
   "source": [
    "### Question 6 (1.5 mark)\n",
    "\n",
    "**Instructions:** You should try to develop a more effective AI for hangman. Feel free to engage your creativity here! Possibilities include better conditioning on the length of the word, fancier smoothing methods, ngram models and bidirectional models (lecture 8). Have fun!\n",
    "\n",
    "You will be marked based on the performance of your AI model, using a pre-made training and test set (created using a secret seed). Let x be the average number of mistakes in the test set, you will score:\n",
    "* 1.5 mark if x < 8.0\n",
    "* 1.0 mark if 8.0 <= x < 8.5\n",
    "* 0.5 mark if 8.5 <= x < 8.8\n",
    "* 0.0 mark if x >= 8.8\n",
    "\n",
    "Note: when testing your AI model's performance, you may want to consider trying different training/test splits (using different seeds) to have a better understanding of its performance, as there will be some variance to its performance depending on the training/test split.\n",
    "\n",
    "**Task** Complete the `my_amazing_ai_guesser` method, which implements a better language model for hangman."
   ]
  },
  {
   "cell_type": "code",
   "execution_count": null,
   "metadata": {
    "pycharm": {
     "is_executing": true
    }
   },
   "outputs": [],
   "source": [
    "###\n",
    "# Your answer BEGINS HERE\n",
    "###\n",
    "###\n",
    "# Your answer BEGINS HERE\n",
    "###\n",
    "from nltk.lm.preprocessing import pad_both_ends, padded_everygram_pipeline\n",
    "from nltk.lm import MLE\n",
    "from nltk.probability import FreqDist\n",
    "from functools import partial\n",
    "from nltk.lm.preprocessing import flatten\n",
    "from nltk import everygrams\n",
    "from itertools import count\n",
    "\n",
    "\n",
    "def create_everygrams_reverse(order, text):\n",
    "    padding_fn = partial(pad_both_ends, n=order)\n",
    "\n",
    "    return (\n",
    "        (everygrams(list(reversed(list(padding_fn(sent)))), max_len=order) for sent in text),\n",
    "        flatten(map(padding_fn, text)),\n",
    "    )\n",
    "\n",
    "# The 'everygrams' is a mix of ngrams. If n is 2, then everygrams will include unigrams and bigrams.\n",
    "# The 'create_everygrams_reverse' function is to create everygram based on reversed padding word. For example, the order of \n",
    "# '<s>abc</s>' is reversed like '</s>cba<s>' and then fit it into everygrams model in order to get the right-side context\n",
    "# using the similar code.\n",
    "\n",
    "def my_amazing_ai_guesser(mask, guessed):\n",
    "    \n",
    "    \n",
    "#     # Monitor the process of testset being guessing\n",
    "#     if not guessed:\n",
    "#         output = next(counter)\n",
    "#         print('Word Number')\n",
    "#         print(output)\n",
    "\n",
    "    letter_prob = FreqDist() # In each guess round, it keeps the probability distribution among letters from 'a' to 'z'\n",
    "\n",
    "    chars = ['<s>', '<s>'] + mask + ['</s>', '</s>']  # Padding each word with start and end symbol. The highest order is 3.\n",
    "    noContext = False\n",
    "\n",
    "    for index in range(2, len(chars) - 2):\n",
    "\n",
    "        unigram_flag_left = False\n",
    "        unigram_flag_right = False\n",
    "        \n",
    "        # No need to guess if the position is filled.\n",
    "        if chars[index] != '_':\n",
    "            continue\n",
    "\n",
    "        # left context calculation\n",
    "\n",
    "        if len(model_left_context.counts[[chars[index - 2], chars[index - 1]]]):  # trigram model\n",
    "\n",
    "            for letter in letter_lowercase:\n",
    "                letter_prob[letter] += model_left_context.score(letter, [chars[index - 2], chars[index - 1]])  \n",
    "\n",
    "        elif len(model_left_context.counts[[chars[index - 1]]]):  # bigram model\n",
    "\n",
    "            for letter in letter_lowercase:\n",
    "                letter_prob[letter] += model_left_context.score(letter, [chars[index - 1]])\n",
    "\n",
    "        else:  # unigram model\n",
    "\n",
    "            unigram_flag_left = True\n",
    "\n",
    "        # right context calculation\n",
    "\n",
    "        if len(model_right_context.counts[[chars[index + 2], chars[index + 1]]]):  # trigram model\n",
    "\n",
    "            for letter in letter_lowercase:\n",
    "                letter_prob[letter] += model_right_context.score(letter, [chars[index + 2], chars[index + 1]])\n",
    "\n",
    "        elif len(model_right_context.counts[[chars[index + 1]]]):  # bigram model\n",
    "\n",
    "            for letter in letter_lowercase:\n",
    "                letter_prob[letter] += model_right_context.score(letter, [chars[index + 1]])\n",
    "\n",
    "        else:  # unigram model\n",
    "\n",
    "            unigram_flag_right = True\n",
    "\n",
    "        # if there is no context from left and right side, use unigram model\n",
    "        if unigram_flag_left and unigram_flag_right:\n",
    "            noContext = True\n",
    "\n",
    "    if noContext:\n",
    "        for letter in letter_lowercase:\n",
    "            letter_prob[letter] += model_left_context.score(letter)\n",
    "\n",
    "    guess_sorted = [pair[0] for pair in sorted(letter_prob.items(), key=lambda item: item[1], reverse=True)\n",
    "                    if pair[0] not in guessed]\n",
    "\n",
    "    return guess_sorted[0]\n",
    "        \n",
    "    \n",
    "def test_different_split(num):\n",
    "    \n",
    "    print('Seed Number: ', num)\n",
    "    \n",
    "    global test_set\n",
    "    global training_set\n",
    "    \n",
    "    np.random.seed(num)\n",
    "\n",
    "    words = list(set([word.lower() for word in brown.words() if not re.search(r'[^a-zA-Z]', word)]))\n",
    "\n",
    "    np.random.shuffle(words)\n",
    "\n",
    "    test_set += words[0:1000]\n",
    "    training_set += words[1000:]\n",
    "    \n",
    "    model_left_context = MLE(3)\n",
    "    model_right_context = MLE(3)\n",
    "    train_left, vocab_left = padded_everygram_pipeline(3, training_set)  # highest order is 3, which means trigrams are involved.\n",
    "    train_right, vocal_right = create_everygrams_reverse(3, training_set)\n",
    "    model_left_context.fit(train_left, vocab_left)  # ngrams model involves left-side context\n",
    "    model_right_context.fit(train_right, vocal_right) \n",
    "    \n",
    "    result = test_guesser(my_amazing_ai_guesser)\n",
    "    print(\"Average number of incorrect guesses: \", result)\n",
    "    return result\n",
    "\n",
    "print('Building models...')\n",
    "model_left_context = MLE(3)\n",
    "model_right_context = MLE(3)\n",
    "train_left, vocab_left = padded_everygram_pipeline(3, training_set)  # highest order is 3, which means trigrams are involved.\n",
    "train_right, vocal_right = create_everygrams_reverse(3, training_set)\n",
    "print('Train model 1 out of 2...')\n",
    "model_left_context.fit(train_left, vocab_left)  # ngrams model involves left-side context\n",
    "print('Left-side context model is set up.')\n",
    "print('Train model 2 out of 2...')\n",
    "model_right_context.fit(train_right, vocal_right)  # ngrams model involves right-side context\n",
    "print('Right-side context model is set up.')\n",
    "\n",
    "\n",
    "counter = count()  # \n",
    "\n",
    "# # This is a test among different dataset with different seeds, which runs longer time...\n",
    "# result = 0\n",
    "# seed_num = 5\n",
    "# for i in range(seed_num):\n",
    "    \n",
    "#     print('Start testing different dataset...')\n",
    "#     result += test_different_split(i)\n",
    "#     print('Finish No.', i, ' test...')\n",
    "#     print()\n",
    "\n",
    "# print('Average number of incorrect guesses among different dataset: ', float(result) / seed_num)\n",
    "###\n",
    "# Your answer ENDS HERE\n",
    "###\n",
    "print('Start guessing...')\n",
    "result = test_guesser(my_amazing_ai_guesser)\n",
    "print(\"Testing my amazing AI guesser using every word in test set\")\n",
    "print(\"Average number of incorrect guesses: \", result)"
   ]
  },
  {
   "cell_type": "markdown",
   "metadata": {},
   "source": [
    "### Question 7 (0.5 mark)\n",
    "\n",
    "**Instructions:** Explain your approach and discuss your result below. Please keep your explanation to a short paragraph."
   ]
  },
  {
   "cell_type": "markdown",
   "metadata": {},
   "source": [
    "##### Your answer BEGINS HERE\n",
    "\n",
    "\n",
    "\n",
    "##### Your answer ENDS HERE"
   ]
  },
  {
   "cell_type": "markdown",
   "metadata": {
    "pycharm": {
     "is_executing": true
    }
   },
   "source": [
    "In Qustion 6, I try to use nltk package to build language model rathner than manually code. The basic language model is called 'everygrams', which can be found in this link: https://www.nltk.org/api/nltk.html?highlight=everygrams#nltk.util.everygrams. In Question 6, I specify the highest order of everygrams model to be 3. That means this ngrams model can involve unigrams, bigrams, and trigrams together in one model. Also, bidirectional model is applied. The algorithm first iterates the mask list to find '_' and check its context. Left side context is explored first. Then using trained model to get conditional probability based on the trigrams model. If it cannot be found, then goes to bigrams model. The algorithm also sum up all probability for letters 'a' to 'z' and stores them in 'letter_prob'. When left side context exploring is finished, the algorithm starts checking right side context based on the similar workflow. The loop will continue until all the unfilled letters' context are explored. Finally, the most frequent letter is chosen."
   ]
  }
 ],
 "metadata": {
  "anaconda-cloud": {},
  "kernelspec": {
   "display_name": "Python 3",
   "language": "python",
   "name": "python3"
  },
  "language_info": {
   "codemirror_mode": {
    "name": "ipython",
    "version": 3
   },
   "file_extension": ".py",
   "mimetype": "text/x-python",
   "name": "python",
   "nbconvert_exporter": "python",
   "pygments_lexer": "ipython3",
   "version": "3.9.2"
  },
  "pycharm": {
   "stem_cell": {
    "cell_type": "raw",
    "metadata": {
     "collapsed": false
    },
    "source": []
   }
  }
 },
 "nbformat": 4,
 "nbformat_minor": 1
}
